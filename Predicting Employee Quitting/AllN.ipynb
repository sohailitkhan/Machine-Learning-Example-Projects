{
 "cells": [
  {
   "cell_type": "markdown",
   "source": [
    "#   Import Libraries\n",
    "## Defining the problem statement\n",
    "For this project, we will be using the data from the Kaggle competition: [Garanti BBCA Data Camp](https://www.kaggle.com/competitions/garanti-bbva-data-camp/overview). In this competition, we will be predicting whether a user will leave the company in 2019 or not.\n"
   ],
   "metadata": {
    "collapsed": false
   }
  },
  {
   "cell_type": "code",
   "execution_count": 61,
   "metadata": {
    "collapsed": true
   },
   "outputs": [
    {
     "data": {
      "text/plain": "       user_id                             industry  \\\n0         1301  Information Technology and Services   \n1         6950                             Internet   \n2         4880                         Online Media   \n3        26046                   Telecommunications   \n4        11005                              Banking   \n...        ...                                  ...   \n66269    32847                    Computer Software   \n66270    20054               Hospital & Health Care   \n66271     7029                             Wireless   \n66272    56130  Information Technology and Services   \n66273    16036                           Automotive   \n\n                         location  moved_after_2019  \n0      Istanbul, Istanbul, Turkey                 1  \n1      Istanbul, Istanbul, Turkey                 0  \n2                          Turkey                 0  \n3      Istanbul, Istanbul, Turkey                 0  \n4                Istanbul, Turkey                 0  \n...                           ...               ...  \n66269                      Turkey                -1  \n66270                      Turkey                -1  \n66271            Istanbul, Turkey                -1  \n66272              Ankara, Turkey                -1  \n66273      Bornova, İzmir, Turkey                -1  \n\n[66274 rows x 4 columns]",
      "text/html": "<div>\n<style scoped>\n    .dataframe tbody tr th:only-of-type {\n        vertical-align: middle;\n    }\n\n    .dataframe tbody tr th {\n        vertical-align: top;\n    }\n\n    .dataframe thead th {\n        text-align: right;\n    }\n</style>\n<table border=\"1\" class=\"dataframe\">\n  <thead>\n    <tr style=\"text-align: right;\">\n      <th></th>\n      <th>user_id</th>\n      <th>industry</th>\n      <th>location</th>\n      <th>moved_after_2019</th>\n    </tr>\n  </thead>\n  <tbody>\n    <tr>\n      <th>0</th>\n      <td>1301</td>\n      <td>Information Technology and Services</td>\n      <td>Istanbul, Istanbul, Turkey</td>\n      <td>1</td>\n    </tr>\n    <tr>\n      <th>1</th>\n      <td>6950</td>\n      <td>Internet</td>\n      <td>Istanbul, Istanbul, Turkey</td>\n      <td>0</td>\n    </tr>\n    <tr>\n      <th>2</th>\n      <td>4880</td>\n      <td>Online Media</td>\n      <td>Turkey</td>\n      <td>0</td>\n    </tr>\n    <tr>\n      <th>3</th>\n      <td>26046</td>\n      <td>Telecommunications</td>\n      <td>Istanbul, Istanbul, Turkey</td>\n      <td>0</td>\n    </tr>\n    <tr>\n      <th>4</th>\n      <td>11005</td>\n      <td>Banking</td>\n      <td>Istanbul, Turkey</td>\n      <td>0</td>\n    </tr>\n    <tr>\n      <th>...</th>\n      <td>...</td>\n      <td>...</td>\n      <td>...</td>\n      <td>...</td>\n    </tr>\n    <tr>\n      <th>66269</th>\n      <td>32847</td>\n      <td>Computer Software</td>\n      <td>Turkey</td>\n      <td>-1</td>\n    </tr>\n    <tr>\n      <th>66270</th>\n      <td>20054</td>\n      <td>Hospital &amp; Health Care</td>\n      <td>Turkey</td>\n      <td>-1</td>\n    </tr>\n    <tr>\n      <th>66271</th>\n      <td>7029</td>\n      <td>Wireless</td>\n      <td>Istanbul, Turkey</td>\n      <td>-1</td>\n    </tr>\n    <tr>\n      <th>66272</th>\n      <td>56130</td>\n      <td>Information Technology and Services</td>\n      <td>Ankara, Turkey</td>\n      <td>-1</td>\n    </tr>\n    <tr>\n      <th>66273</th>\n      <td>16036</td>\n      <td>Automotive</td>\n      <td>Bornova, İzmir, Turkey</td>\n      <td>-1</td>\n    </tr>\n  </tbody>\n</table>\n<p>66274 rows × 4 columns</p>\n</div>"
     },
     "execution_count": 61,
     "metadata": {},
     "output_type": "execute_result"
    }
   ],
   "source": [
    "# Imported Libraries\n",
    "import numpy as np # linear algebra\n",
    "import pandas as pd # data processing, CSV file I/O (e.g. pd.read_csv)\n",
    "#Common Model Algorithms\n",
    "from sklearn import svm, tree, linear_model, neighbors, naive_bayes, ensemble, discriminant_analysis, gaussian_process\n",
    "from xgboost import XGBClassifier\n",
    "\n",
    "#Common Model Helpers\n",
    "from sklearn.preprocessing import OneHotEncoder\n",
    "import  sklearn.preprocessing as preprocessing\n",
    "from sklearn import feature_selection\n",
    "from sklearn import model_selection\n",
    "from sklearn import metrics\n",
    "\n",
    "#Visualization\n",
    "import matplotlib as mpl\n",
    "import matplotlib.pyplot as plt\n",
    "import matplotlib.pylab as pylab\n",
    "import seaborn as sns\n",
    "from pandas.plotting import scatter_matrix\n",
    "\n",
    "from googletrans import Translator\n",
    "from nltk.corpus import stopwords\n",
    "from nltk.tokenize import word_tokenize\n",
    "from nltk.stem import PorterStemmer\n",
    "\n",
    "# Classifier Libraries\n",
    "from sklearn.linear_model import LogisticRegression\n",
    "from sklearn.svm import SVC\n",
    "from sklearn.neighbors import KNeighborsClassifier\n",
    "from sklearn.tree import DecisionTreeClassifier\n",
    "from sklearn.ensemble import RandomForestClassifier\n",
    "import collections\n",
    "\n",
    "\n",
    "# Other Libraries\n",
    "from sklearn.pipeline import make_pipeline\n",
    "'''from imblearn.pipeline import make_pipeline as imbalanced_make_pipeline\n",
    "from imblearn.over_sampling import SMOTE\n",
    "from imblearn.under_sampling import NearMiss\n",
    "from imblearn.metrics import classification_report_imbalanced'''\n",
    "from sklearn.metrics import precision_score, recall_score, f1_score, roc_auc_score, accuracy_score, classification_report\n",
    "from collections import Counter\n",
    "from sklearn.model_selection import KFold, StratifiedKFold\n",
    "import warnings\n",
    "warnings.filterwarnings(\"ignore\")\n",
    "\n",
    "\n",
    "#read all csv files education, languages, skills, etc\n",
    "df_education = pd.read_csv('education.csv')\n",
    "df_languages = pd.read_csv('languages.csv')\n",
    "df_skill = pd.read_csv('skills.csv')\n",
    "df_work = pd.read_csv('work_experiences.csv')\n",
    "df_submissions = pd.read_csv('submission.csv')\n",
    "df_test = pd.read_csv('test_users.csv')\n",
    "df_recession = pd.read_csv('recession.csv')\n",
    "df = pd.read_csv('train_users.csv')\n",
    "# concat df with df_test\n",
    "df = pd.concat([df, df_test], axis=0, sort=False)\n",
    "df = df.reset_index(drop=True)\n",
    "df.moved_after_2019 = df.moved_after_2019.fillna(-1).astype(int) # when splitting we recognize test users\n",
    "df"
   ]
  },
  {
   "cell_type": "markdown",
   "source": [
    "# Data Preprocessing and Feature Engineering"
   ],
   "metadata": {
    "collapsed": false
   }
  },
  {
   "cell_type": "code",
   "execution_count": 62,
   "outputs": [
    {
     "name": "stdout",
     "output_type": "stream",
     "text": [
      "CPU times: total: 1.91 s\n",
      "Wall time: 6.91 s\n"
     ]
    }
   ],
   "source": [
    "%%time\n",
    "# Stop words ve stemmer\n",
    "stop_words = set(stopwords.words('english', 'turkish'))\n",
    "ps = PorterStemmer()\n",
    "\n",
    "# df_skill\n",
    "unique_skills = df_skill['skill'].unique()\n",
    "skills_dict = {}\n",
    "for skill in unique_skills:\n",
    "    skill_lower = skill.lower().replace('[,\\.!?(-+_)]','')\n",
    "    skill_stemmed = ' '.join([ps.stem(w) for w in word_tokenize(skill_lower) if not w in stop_words])\n",
    "    skills_dict[skill] = skill_stemmed\n",
    "\n",
    "# df_languages\n",
    "unique_languages = df_languages['language'].unique()\n",
    "languages_dict = {}\n",
    "for language in unique_languages:\n",
    "    language_lower = language.lower().replace('[,\\.!?(-+_)]','')\n",
    "    language_stemmed = ' '.join([ps.stem(w) for w in word_tokenize(language_lower) if not w in stop_words])\n",
    "    languages_dict[language] = language_stemmed\n",
    "\n",
    "# df_education\n",
    "df_education['degree'] = df_education['degree'].fillna('UNKNOWN')\n",
    "df_education['degree'] = df_education['degree'].astype(str)\n",
    "unique_degrees = df_education['degree'].unique()\n",
    "degrees_dict = {}\n",
    "for degree in unique_degrees:\n",
    "    degree_lower = degree.lower().replace('[,\\.!?(-+_)]','')\n",
    "    degree_stemmed = ' '.join([ps.stem(w) for w in word_tokenize(degree_lower) if not w in stop_words])\n",
    "    degrees_dict[degree] = degree_stemmed\n",
    "\n",
    "# skill column update\n",
    "df_skill['skill'] = df_skill['skill'].apply(lambda x: skills_dict.get(x, 'UNKNOWN'))\n",
    "\n",
    "# language column update\n",
    "df_languages['language'] = df_languages['language'].apply(lambda x: languages_dict.get(x, 'UNKNOWN'))\n",
    "\n",
    "# degree column update\n",
    "df_education['degree'] = df_education['degree'].apply(lambda x: degrees_dict.get(x, 'UNKNOWN'))\n"
   ],
   "metadata": {
    "collapsed": false
   }
  },
  {
   "cell_type": "code",
   "execution_count": 63,
   "outputs": [
    {
     "name": "stdout",
     "output_type": "stream",
     "text": [
      "CPU times: total: 406 ms\n",
      "Wall time: 11.4 s\n"
     ]
    }
   ],
   "source": [
    "%%time\n",
    "# Translator nesnesi oluşturun\n",
    "translator = Translator()\n",
    "# Çeviri işlemini gerçekleştiren fonksiyon\n",
    "def translate_unique_values(temp, col, chunk_size=150, src='auto', dest='en'):\n",
    "    # Unique değerleri alın\n",
    "    unique_values = temp[col].unique()\n",
    "\n",
    "    # Tüm unique değerleri birleştir\n",
    "    text = ','.join(unique_values)\n",
    "\n",
    "    # Parçalar halinde çevir ve sonuçları birleştir\n",
    "    results = []\n",
    "    for i in range(0, len(text), chunk_size):\n",
    "        results.append(translator.translate(text[i:i+chunk_size], src=src, dest=dest).text)\n",
    "\n",
    "    # Sonuçları tekrar parçalara ayır\n",
    "    translated_text = ''.join(results)\n",
    "    translated_values = translated_text.split(',')\n",
    "\n",
    "    # Yeni çevrilmiş değerleri DataFrame'e kaydet\n",
    "    new_df = temp.copy()\n",
    "    new_df[col] = new_df[col].apply(lambda x: translated_values[unique_values.tolist().index(x)] if x in unique_values else x)\n",
    "    return new_df\n",
    "\n",
    "df_languages = translate_unique_values(df_languages, 'language', chunk_size=150, src='auto', dest='en')\n",
    "df_languages['language'] = df_languages['language'].str.strip().str.lower()\n",
    "df_languages['proficiency'] = df_languages['proficiency'].str.strip().str.lower()\n",
    "language_list = ['british', 'english']\n",
    "proficiency_list = ['limited_working', 'professional_working', 'native_or_bilingual', 'full_professional']\n",
    "\n",
    "df = pd.merge(df,  df_languages[df_languages.language.isin(language_list) & df_languages.proficiency.isin(proficiency_list)].groupby('user_id')['proficiency'].nunique().reset_index(name='lang'), on='user_id', how='left')\n",
    "df.lang = df.lang.fillna(0).astype(int)\n",
    "\n",
    "df_education['degree'] = df_education['degree'].str.strip().str.lower()\n",
    "\n",
    "high_school_list = [np.NAN, 'unknown', 'lise', 'ortaokul', 'high school', 'middle school', 'high school diploma', 'önlisans', 'ön lisans', 'lise mezunu', 'high school graduate', 'ortaokul mezunu', 'middle school graduate']\n",
    "\n",
    "df = pd.merge(df, df_education[~df_education.degree.isin(high_school_list)].groupby('user_id')['degree'].nunique().reset_index(name='edu'), on='user_id', how='left')\n",
    "\n",
    "df['edu'] = df['edu'].fillna(0).astype(int)"
   ],
   "metadata": {
    "collapsed": false
   }
  },
  {
   "cell_type": "code",
   "execution_count": 4,
   "outputs": [
    {
     "name": "stdout",
     "output_type": "stream",
     "text": [
      "CPU times: total: 1min 25s\n",
      "Wall time: 4min 8s\n"
     ]
    },
    {
     "data": {
      "text/plain": "       user_id                             industry  \\\n0         1301  Information Technology and Services   \n1         6950                             Internet   \n2         4880                         Online Media   \n3        26046                   Telecommunications   \n4        11005                              Banking   \n...        ...                                  ...   \n66269    32847                    Computer Software   \n66270    20054               Hospital & Health Care   \n66271     7029                             Wireless   \n66272    56130  Information Technology and Services   \n66273    16036                           Automotive   \n\n                         location  moved_after_2019  lang  edu  ability_score  \n0      Istanbul, Istanbul, Turkey                 1     1    2       0.171312  \n1      Istanbul, Istanbul, Turkey                 0     1    1       0.401332  \n2                          Turkey                 0     0    2       0.224450  \n3      Istanbul, Istanbul, Turkey                 0     0    2       0.266735  \n4                Istanbul, Turkey                 0     1    0       0.225832  \n...                           ...               ...   ...  ...            ...  \n66269                      Turkey                -1     0    0       0.027347  \n66270                      Turkey                -1     1    3       0.014560  \n66271            Istanbul, Turkey                -1     1    2       0.067713  \n66272              Ankara, Turkey                -1     1    1       0.090133  \n66273      Bornova, İzmir, Turkey                -1     1    1       0.201136  \n\n[66274 rows x 7 columns]",
      "text/html": "<div>\n<style scoped>\n    .dataframe tbody tr th:only-of-type {\n        vertical-align: middle;\n    }\n\n    .dataframe tbody tr th {\n        vertical-align: top;\n    }\n\n    .dataframe thead th {\n        text-align: right;\n    }\n</style>\n<table border=\"1\" class=\"dataframe\">\n  <thead>\n    <tr style=\"text-align: right;\">\n      <th></th>\n      <th>user_id</th>\n      <th>industry</th>\n      <th>location</th>\n      <th>moved_after_2019</th>\n      <th>lang</th>\n      <th>edu</th>\n      <th>ability_score</th>\n    </tr>\n  </thead>\n  <tbody>\n    <tr>\n      <th>0</th>\n      <td>1301</td>\n      <td>Information Technology and Services</td>\n      <td>Istanbul, Istanbul, Turkey</td>\n      <td>1</td>\n      <td>1</td>\n      <td>2</td>\n      <td>0.171312</td>\n    </tr>\n    <tr>\n      <th>1</th>\n      <td>6950</td>\n      <td>Internet</td>\n      <td>Istanbul, Istanbul, Turkey</td>\n      <td>0</td>\n      <td>1</td>\n      <td>1</td>\n      <td>0.401332</td>\n    </tr>\n    <tr>\n      <th>2</th>\n      <td>4880</td>\n      <td>Online Media</td>\n      <td>Turkey</td>\n      <td>0</td>\n      <td>0</td>\n      <td>2</td>\n      <td>0.224450</td>\n    </tr>\n    <tr>\n      <th>3</th>\n      <td>26046</td>\n      <td>Telecommunications</td>\n      <td>Istanbul, Istanbul, Turkey</td>\n      <td>0</td>\n      <td>0</td>\n      <td>2</td>\n      <td>0.266735</td>\n    </tr>\n    <tr>\n      <th>4</th>\n      <td>11005</td>\n      <td>Banking</td>\n      <td>Istanbul, Turkey</td>\n      <td>0</td>\n      <td>1</td>\n      <td>0</td>\n      <td>0.225832</td>\n    </tr>\n    <tr>\n      <th>...</th>\n      <td>...</td>\n      <td>...</td>\n      <td>...</td>\n      <td>...</td>\n      <td>...</td>\n      <td>...</td>\n      <td>...</td>\n    </tr>\n    <tr>\n      <th>66269</th>\n      <td>32847</td>\n      <td>Computer Software</td>\n      <td>Turkey</td>\n      <td>-1</td>\n      <td>0</td>\n      <td>0</td>\n      <td>0.027347</td>\n    </tr>\n    <tr>\n      <th>66270</th>\n      <td>20054</td>\n      <td>Hospital &amp; Health Care</td>\n      <td>Turkey</td>\n      <td>-1</td>\n      <td>1</td>\n      <td>3</td>\n      <td>0.014560</td>\n    </tr>\n    <tr>\n      <th>66271</th>\n      <td>7029</td>\n      <td>Wireless</td>\n      <td>Istanbul, Turkey</td>\n      <td>-1</td>\n      <td>1</td>\n      <td>2</td>\n      <td>0.067713</td>\n    </tr>\n    <tr>\n      <th>66272</th>\n      <td>56130</td>\n      <td>Information Technology and Services</td>\n      <td>Ankara, Turkey</td>\n      <td>-1</td>\n      <td>1</td>\n      <td>1</td>\n      <td>0.090133</td>\n    </tr>\n    <tr>\n      <th>66273</th>\n      <td>16036</td>\n      <td>Automotive</td>\n      <td>Bornova, İzmir, Turkey</td>\n      <td>-1</td>\n      <td>1</td>\n      <td>1</td>\n      <td>0.201136</td>\n    </tr>\n  </tbody>\n</table>\n<p>66274 rows × 7 columns</p>\n</div>"
     },
     "execution_count": 4,
     "metadata": {},
     "output_type": "execute_result"
    }
   ],
   "source": [
    "%%time\n",
    "df_skill = pd.merge(df_skill, df[['user_id', 'industry']], on='user_id')\n",
    "df_combinations = df_skill.groupby(['skill', 'industry']).size().reset_index(name='count')\n",
    "df_combinations = df_combinations[df_combinations['count'] > 5]\n",
    "df_combinations = df_combinations[(df_combinations['skill'] != 'UNKNOWN') & (df_combinations['skill'] != '')]\n",
    "\n",
    "combinations_scores = pd.DataFrame(columns=['skill', 'industry', 'score'])\n",
    "# Kombinasyonların tekrar sayısının logaritmasını alarak puanlandırma\n",
    "for i, combination in enumerate(df_combinations.itertuples()):\n",
    "    user_count = combination.count\n",
    "    score = 1 / np.log(user_count)\n",
    "    combinations_scores.loc[i] = [combination.skill, combination.industry, score]\n",
    "\n",
    "# Her bir kullanıcının yetenek skorlarını hesaplayan fonksiyon\n",
    "score_table = pd.DataFrame(columns=['user_id', 'ability_score'])\n",
    "def calculate_user_scores(user_group):\n",
    "    user_skills = set(user_group['skill'])\n",
    "    industry = user_group['industry'].iloc[0] # Tüm satırlar aynı endüstriye sahip olduğu için iloc[0] kullanıyoruz\n",
    "\n",
    "    # Her bir kombinasyon için kullanıcının yetenek skorunu hesapla\n",
    "    score_total = combinations_scores[combinations_scores['skill'].isin(user_skills) & (combinations_scores['industry'] == industry)]['score'].sum()\n",
    "    #add to score table\n",
    "    score_table.loc[len(score_table)] = [int(user_group['user_id'].iloc[0]), score_total]\n",
    "\n",
    "\n",
    "df_skill.groupby('user_id').apply(lambda x: calculate_user_scores(x))\n",
    "\n",
    "df = pd.merge(df, score_table, on='user_id', how='left')\n",
    "df.ability_score = df.ability_score.fillna(df.ability_score.median())\n",
    "#normalize ability score\n",
    "scaler = preprocessing.MinMaxScaler()\n",
    "df['ability_score'] = scaler.fit_transform(df['ability_score'].values.reshape(-1,1))\n",
    "df"
   ],
   "metadata": {
    "collapsed": false
   }
  },
  {
   "cell_type": "code",
   "execution_count": 5,
   "outputs": [
    {
     "name": "stdout",
     "output_type": "stream",
     "text": [
      "CPU times: total: 7.3 s\n",
      "Wall time: 20.6 s\n"
     ]
    },
    {
     "data": {
      "text/plain": "       user_id                             industry  \\\n0         1301  Information Technology and Services   \n1         6950                             Internet   \n2         4880                         Online Media   \n3        26046                   Telecommunications   \n4        11005                              Banking   \n...        ...                                  ...   \n66269    32847                    Computer Software   \n66270    20054               Hospital & Health Care   \n66271     7029                             Wireless   \n66272    56130  Information Technology and Services   \n66273    16036                           Automotive   \n\n                         location  moved_after_2019  lang  edu  ability_score  \\\n0      Istanbul, Istanbul, Turkey                 1     1    2       0.171312   \n1      Istanbul, Istanbul, Turkey                 0     1    1       0.401332   \n2                          Turkey                 0     0    2       0.224450   \n3      Istanbul, Istanbul, Turkey                 0     0    2       0.266735   \n4                Istanbul, Turkey                 0     1    0       0.225832   \n...                           ...               ...   ...  ...            ...   \n66269                      Turkey                -1     0    0       0.027347   \n66270                      Turkey                -1     1    3       0.014560   \n66271            Istanbul, Turkey                -1     1    2       0.067713   \n66272              Ankara, Turkey                -1     1    1       0.090133   \n66273      Bornova, İzmir, Turkey                -1     1    1       0.201136   \n\n       company_id  company_avg_work_time  experinece  user_working_point  \n0            1343             834.000000    4.671233            0.493045  \n1            1337             542.700935    6.753425            0.539867  \n2            4366             791.400000    6.000000            0.519722  \n3              26            1119.048246   10.336986            0.619892  \n4            1562            1198.036320   10.336986            0.529757  \n...           ...                    ...         ...                 ...  \n66269        2143             667.408163    3.501370            0.554056  \n66270       14463            1676.384615   14.339726            0.567971  \n66271        4913             747.745536    1.501370            0.518021  \n66272          34             919.090153    5.586301            0.535299  \n66273        6399             712.371795    6.504110            0.484341  \n\n[66274 rows x 11 columns]",
      "text/html": "<div>\n<style scoped>\n    .dataframe tbody tr th:only-of-type {\n        vertical-align: middle;\n    }\n\n    .dataframe tbody tr th {\n        vertical-align: top;\n    }\n\n    .dataframe thead th {\n        text-align: right;\n    }\n</style>\n<table border=\"1\" class=\"dataframe\">\n  <thead>\n    <tr style=\"text-align: right;\">\n      <th></th>\n      <th>user_id</th>\n      <th>industry</th>\n      <th>location</th>\n      <th>moved_after_2019</th>\n      <th>lang</th>\n      <th>edu</th>\n      <th>ability_score</th>\n      <th>company_id</th>\n      <th>company_avg_work_time</th>\n      <th>experinece</th>\n      <th>user_working_point</th>\n    </tr>\n  </thead>\n  <tbody>\n    <tr>\n      <th>0</th>\n      <td>1301</td>\n      <td>Information Technology and Services</td>\n      <td>Istanbul, Istanbul, Turkey</td>\n      <td>1</td>\n      <td>1</td>\n      <td>2</td>\n      <td>0.171312</td>\n      <td>1343</td>\n      <td>834.000000</td>\n      <td>4.671233</td>\n      <td>0.493045</td>\n    </tr>\n    <tr>\n      <th>1</th>\n      <td>6950</td>\n      <td>Internet</td>\n      <td>Istanbul, Istanbul, Turkey</td>\n      <td>0</td>\n      <td>1</td>\n      <td>1</td>\n      <td>0.401332</td>\n      <td>1337</td>\n      <td>542.700935</td>\n      <td>6.753425</td>\n      <td>0.539867</td>\n    </tr>\n    <tr>\n      <th>2</th>\n      <td>4880</td>\n      <td>Online Media</td>\n      <td>Turkey</td>\n      <td>0</td>\n      <td>0</td>\n      <td>2</td>\n      <td>0.224450</td>\n      <td>4366</td>\n      <td>791.400000</td>\n      <td>6.000000</td>\n      <td>0.519722</td>\n    </tr>\n    <tr>\n      <th>3</th>\n      <td>26046</td>\n      <td>Telecommunications</td>\n      <td>Istanbul, Istanbul, Turkey</td>\n      <td>0</td>\n      <td>0</td>\n      <td>2</td>\n      <td>0.266735</td>\n      <td>26</td>\n      <td>1119.048246</td>\n      <td>10.336986</td>\n      <td>0.619892</td>\n    </tr>\n    <tr>\n      <th>4</th>\n      <td>11005</td>\n      <td>Banking</td>\n      <td>Istanbul, Turkey</td>\n      <td>0</td>\n      <td>1</td>\n      <td>0</td>\n      <td>0.225832</td>\n      <td>1562</td>\n      <td>1198.036320</td>\n      <td>10.336986</td>\n      <td>0.529757</td>\n    </tr>\n    <tr>\n      <th>...</th>\n      <td>...</td>\n      <td>...</td>\n      <td>...</td>\n      <td>...</td>\n      <td>...</td>\n      <td>...</td>\n      <td>...</td>\n      <td>...</td>\n      <td>...</td>\n      <td>...</td>\n      <td>...</td>\n    </tr>\n    <tr>\n      <th>66269</th>\n      <td>32847</td>\n      <td>Computer Software</td>\n      <td>Turkey</td>\n      <td>-1</td>\n      <td>0</td>\n      <td>0</td>\n      <td>0.027347</td>\n      <td>2143</td>\n      <td>667.408163</td>\n      <td>3.501370</td>\n      <td>0.554056</td>\n    </tr>\n    <tr>\n      <th>66270</th>\n      <td>20054</td>\n      <td>Hospital &amp; Health Care</td>\n      <td>Turkey</td>\n      <td>-1</td>\n      <td>1</td>\n      <td>3</td>\n      <td>0.014560</td>\n      <td>14463</td>\n      <td>1676.384615</td>\n      <td>14.339726</td>\n      <td>0.567971</td>\n    </tr>\n    <tr>\n      <th>66271</th>\n      <td>7029</td>\n      <td>Wireless</td>\n      <td>Istanbul, Turkey</td>\n      <td>-1</td>\n      <td>1</td>\n      <td>2</td>\n      <td>0.067713</td>\n      <td>4913</td>\n      <td>747.745536</td>\n      <td>1.501370</td>\n      <td>0.518021</td>\n    </tr>\n    <tr>\n      <th>66272</th>\n      <td>56130</td>\n      <td>Information Technology and Services</td>\n      <td>Ankara, Turkey</td>\n      <td>-1</td>\n      <td>1</td>\n      <td>1</td>\n      <td>0.090133</td>\n      <td>34</td>\n      <td>919.090153</td>\n      <td>5.586301</td>\n      <td>0.535299</td>\n    </tr>\n    <tr>\n      <th>66273</th>\n      <td>16036</td>\n      <td>Automotive</td>\n      <td>Bornova, İzmir, Turkey</td>\n      <td>-1</td>\n      <td>1</td>\n      <td>1</td>\n      <td>0.201136</td>\n      <td>6399</td>\n      <td>712.371795</td>\n      <td>6.504110</td>\n      <td>0.484341</td>\n    </tr>\n  </tbody>\n</table>\n<p>66274 rows × 11 columns</p>\n</div>"
     },
     "execution_count": 5,
     "metadata": {},
     "output_type": "execute_result"
    }
   ],
   "source": [
    "%%time\n",
    "df_work.rename(columns={'start_year_month': 'start_date'}, inplace=True)\n",
    "df_work['start_date'] = df_work['start_date'].astype(str)\n",
    "df_work['start_date'] = pd.to_datetime(df_work['start_date'], format='%Y%m')\n",
    "\n",
    "\n",
    "df_work = df_work.sort_values(by=['user_id', 'start_date'])\n",
    "df_work.drop_duplicates(subset=['user_id', 'company_id'], keep='first', inplace=True)\n",
    "\n",
    "df_work['work_time'] = df_work.groupby('user_id')['start_date'].apply(lambda x: x.diff().shift(-1))\n",
    "df_work.work_time = df_work.work_time.dt.days\n",
    "df_work = df_work[df_work.work_time != 0]\n",
    "\n",
    "df_work.work_time.fillna((pd.to_datetime('2019-12-31') - df_work['start_date']).dt.days, inplace=True)\n",
    "\n",
    "df_work['company_avg_work_time'] = df_work.groupby('company_id')['work_time'].transform('mean')\n",
    "\n",
    "df_work['user_company_diff'] = df_work['work_time'] - df_work['company_avg_work_time']\n",
    "df_work['user_working_point'] = df_work.groupby('user_id')['user_company_diff'].apply(lambda x: x.cumsum())\n",
    "\n",
    "df_work['experinece'] = df_work.groupby('user_id')['work_time'].apply(lambda x: x.cumsum())\n",
    "df_work['experinece'] = df_work['experinece'] / 365\n",
    "\n",
    "\n",
    "\n",
    "df_work['user_working_point'] = scaler.fit_transform(df_work['user_working_point'].values.reshape(-1,1))\n",
    "df_work.drop(['user_company_diff'], axis=1, inplace=True)\n",
    "\n",
    "# sort by date, group by with user_id and take the last row for each user_id and then merge with df dataframe\n",
    "df = pd.merge(df, df_work.sort_values(by=['user_id', 'start_date']).groupby('user_id').last()[['company_id','company_avg_work_time','experinece','user_working_point']], on='user_id', how='left')\n",
    "df.location.fillna(df.location.mode()[0], inplace=True)\n",
    "df.industry.fillna(df.industry.mode()[0], inplace=True)\n",
    "df['company_id'] = df['company_id'].fillna(-1).astype(int)\n",
    "df.fillna(0, inplace=True)\n",
    "\n",
    "df"
   ],
   "metadata": {
    "collapsed": false
   }
  },
  {
   "cell_type": "code",
   "execution_count": 11,
   "outputs": [
    {
     "name": "stdout",
     "output_type": "stream",
     "text": [
      "CPU times: total: 42.7 s\n",
      "Wall time: 1min 45s\n"
     ]
    },
    {
     "data": {
      "text/plain": "        user_id  work_time  company_avg_work_time  experinece  \\\n0             0     5234.0            3305.000000   14.339726   \n1             2      182.0             182.000000    0.498630   \n2             2      365.0            1369.500000    1.498630   \n3             2      578.0             562.750000    3.082192   \n4             5      943.0             629.333333    2.583562   \n...         ...        ...                    ...         ...   \n164959    15539        0.0               0.000000    0.000000   \n164960    54811        0.0               0.000000    0.000000   \n164961    32644        0.0               0.000000    0.000000   \n164962    53267        0.0               0.000000    0.000000   \n164963    55172        0.0               0.000000    0.000000   \n\n                                   industry                location  \\\n0                         Computer Software                  Turkey   \n1       Electrical/Electronic Manufacturing                  Turkey   \n2       Electrical/Electronic Manufacturing                  Turkey   \n3       Electrical/Electronic Manufacturing                  Turkey   \n4                         Computer Software         Kocaeli, Turkey   \n...                                     ...                     ...   \n164959  Information Technology and Services    İzmir, İzmir, Turkey   \n164960                     Higher Education  Ankara, Ankara, Turkey   \n164961                    Computer Software  Ankara, Ankara, Turkey   \n164962                           Automotive                  Turkey   \n164963                    Computer Software    Meram, Konya, Turkey   \n\n        moved_after_2019  lang  edu  ability_score        Q1        Q2  \\\n0                      0     0    0       0.124922  0.763488  0.528342   \n1                      1     0    1       0.041645  5.509612  1.368865   \n2                      1     0    1       0.041645  1.882761  1.468743   \n3                     -1     0    1       0.041645  0.763488  0.528342   \n4                      0     0    2       0.081747  0.763488  0.528342   \n...                  ...   ...  ...            ...       ...       ...   \n164959                -1     0    1       0.124922  0.763488  0.528342   \n164960                -1     0    1       0.124922  0.763488  0.528342   \n164961                -1     0    1       0.054892  0.763488  0.528342   \n164962                -1     1    1       0.194636  0.763488  0.528342   \n164963                -1     0    1       0.069802  0.763488  0.528342   \n\n              Q3        Q4  \n0       0.311781  0.203649  \n1       2.280319  1.515919  \n2       0.657522 -1.627936  \n3       0.311781  0.203649  \n4       0.311781  0.203649  \n...          ...       ...  \n164959  0.311781  0.203649  \n164960  0.311781  0.203649  \n164961  0.311781  0.203649  \n164962  0.311781  0.203649  \n164963  0.311781  0.203649  \n\n[164964 rows x 14 columns]",
      "text/html": "<div>\n<style scoped>\n    .dataframe tbody tr th:only-of-type {\n        vertical-align: middle;\n    }\n\n    .dataframe tbody tr th {\n        vertical-align: top;\n    }\n\n    .dataframe thead th {\n        text-align: right;\n    }\n</style>\n<table border=\"1\" class=\"dataframe\">\n  <thead>\n    <tr style=\"text-align: right;\">\n      <th></th>\n      <th>user_id</th>\n      <th>work_time</th>\n      <th>company_avg_work_time</th>\n      <th>experinece</th>\n      <th>industry</th>\n      <th>location</th>\n      <th>moved_after_2019</th>\n      <th>lang</th>\n      <th>edu</th>\n      <th>ability_score</th>\n      <th>Q1</th>\n      <th>Q2</th>\n      <th>Q3</th>\n      <th>Q4</th>\n    </tr>\n  </thead>\n  <tbody>\n    <tr>\n      <th>0</th>\n      <td>0</td>\n      <td>5234.0</td>\n      <td>3305.000000</td>\n      <td>14.339726</td>\n      <td>Computer Software</td>\n      <td>Turkey</td>\n      <td>0</td>\n      <td>0</td>\n      <td>0</td>\n      <td>0.124922</td>\n      <td>0.763488</td>\n      <td>0.528342</td>\n      <td>0.311781</td>\n      <td>0.203649</td>\n    </tr>\n    <tr>\n      <th>1</th>\n      <td>2</td>\n      <td>182.0</td>\n      <td>182.000000</td>\n      <td>0.498630</td>\n      <td>Electrical/Electronic Manufacturing</td>\n      <td>Turkey</td>\n      <td>1</td>\n      <td>0</td>\n      <td>1</td>\n      <td>0.041645</td>\n      <td>5.509612</td>\n      <td>1.368865</td>\n      <td>2.280319</td>\n      <td>1.515919</td>\n    </tr>\n    <tr>\n      <th>2</th>\n      <td>2</td>\n      <td>365.0</td>\n      <td>1369.500000</td>\n      <td>1.498630</td>\n      <td>Electrical/Electronic Manufacturing</td>\n      <td>Turkey</td>\n      <td>1</td>\n      <td>0</td>\n      <td>1</td>\n      <td>0.041645</td>\n      <td>1.882761</td>\n      <td>1.468743</td>\n      <td>0.657522</td>\n      <td>-1.627936</td>\n    </tr>\n    <tr>\n      <th>3</th>\n      <td>2</td>\n      <td>578.0</td>\n      <td>562.750000</td>\n      <td>3.082192</td>\n      <td>Electrical/Electronic Manufacturing</td>\n      <td>Turkey</td>\n      <td>-1</td>\n      <td>0</td>\n      <td>1</td>\n      <td>0.041645</td>\n      <td>0.763488</td>\n      <td>0.528342</td>\n      <td>0.311781</td>\n      <td>0.203649</td>\n    </tr>\n    <tr>\n      <th>4</th>\n      <td>5</td>\n      <td>943.0</td>\n      <td>629.333333</td>\n      <td>2.583562</td>\n      <td>Computer Software</td>\n      <td>Kocaeli, Turkey</td>\n      <td>0</td>\n      <td>0</td>\n      <td>2</td>\n      <td>0.081747</td>\n      <td>0.763488</td>\n      <td>0.528342</td>\n      <td>0.311781</td>\n      <td>0.203649</td>\n    </tr>\n    <tr>\n      <th>...</th>\n      <td>...</td>\n      <td>...</td>\n      <td>...</td>\n      <td>...</td>\n      <td>...</td>\n      <td>...</td>\n      <td>...</td>\n      <td>...</td>\n      <td>...</td>\n      <td>...</td>\n      <td>...</td>\n      <td>...</td>\n      <td>...</td>\n      <td>...</td>\n    </tr>\n    <tr>\n      <th>164959</th>\n      <td>15539</td>\n      <td>0.0</td>\n      <td>0.000000</td>\n      <td>0.000000</td>\n      <td>Information Technology and Services</td>\n      <td>İzmir, İzmir, Turkey</td>\n      <td>-1</td>\n      <td>0</td>\n      <td>1</td>\n      <td>0.124922</td>\n      <td>0.763488</td>\n      <td>0.528342</td>\n      <td>0.311781</td>\n      <td>0.203649</td>\n    </tr>\n    <tr>\n      <th>164960</th>\n      <td>54811</td>\n      <td>0.0</td>\n      <td>0.000000</td>\n      <td>0.000000</td>\n      <td>Higher Education</td>\n      <td>Ankara, Ankara, Turkey</td>\n      <td>-1</td>\n      <td>0</td>\n      <td>1</td>\n      <td>0.124922</td>\n      <td>0.763488</td>\n      <td>0.528342</td>\n      <td>0.311781</td>\n      <td>0.203649</td>\n    </tr>\n    <tr>\n      <th>164961</th>\n      <td>32644</td>\n      <td>0.0</td>\n      <td>0.000000</td>\n      <td>0.000000</td>\n      <td>Computer Software</td>\n      <td>Ankara, Ankara, Turkey</td>\n      <td>-1</td>\n      <td>0</td>\n      <td>1</td>\n      <td>0.054892</td>\n      <td>0.763488</td>\n      <td>0.528342</td>\n      <td>0.311781</td>\n      <td>0.203649</td>\n    </tr>\n    <tr>\n      <th>164962</th>\n      <td>53267</td>\n      <td>0.0</td>\n      <td>0.000000</td>\n      <td>0.000000</td>\n      <td>Automotive</td>\n      <td>Turkey</td>\n      <td>-1</td>\n      <td>1</td>\n      <td>1</td>\n      <td>0.194636</td>\n      <td>0.763488</td>\n      <td>0.528342</td>\n      <td>0.311781</td>\n      <td>0.203649</td>\n    </tr>\n    <tr>\n      <th>164963</th>\n      <td>55172</td>\n      <td>0.0</td>\n      <td>0.000000</td>\n      <td>0.000000</td>\n      <td>Computer Software</td>\n      <td>Meram, Konya, Turkey</td>\n      <td>-1</td>\n      <td>0</td>\n      <td>1</td>\n      <td>0.069802</td>\n      <td>0.763488</td>\n      <td>0.528342</td>\n      <td>0.311781</td>\n      <td>0.203649</td>\n    </tr>\n  </tbody>\n</table>\n<p>164964 rows × 14 columns</p>\n</div>"
     },
     "execution_count": 11,
     "metadata": {},
     "output_type": "execute_result"
    }
   ],
   "source": [
    "%%time\n",
    "df_work.drop(['location'], axis=1, inplace=True)\n",
    "df_work = pd.merge(df_work, df, on='user_id', how='outer')\n",
    "df_work = df_work[~df_work['moved_after_2019'].isna()]\n",
    "df_work[['Q1', 'Q2', 'Q3', 'Q4']] = [0.0, 0.0, 0.0, 0.0]\n",
    "def set_moved_after_2019(x):\n",
    "    x['moved_after_2019'].iloc[:-1] = 1\n",
    "    x['Q1'].iloc[-1] = 0.763488\n",
    "    x['Q2'].iloc[-1] = 0.528342\n",
    "    x['Q3'].iloc[-1] = 0.311781\n",
    "    x['Q4'].iloc[-1] = 0.203649\n",
    "    if x['company_id_x'].isna().values[0]:\n",
    "        print(x['user_id'])\n",
    "        x['company_id_x'] = x['company_id_y']\n",
    "        x['company_avg_work_time_x'] = x['company_avg_work_time_y']\n",
    "        x['experinece_x'] = x['experinece_y']\n",
    "        x['user_working_point_x'] = x['user_working_point_y']\n",
    "        x['work_time'] = 0.0\n",
    "    return x\n",
    "\n",
    "df_work = df_work.groupby('user_id').apply(set_moved_after_2019)\n",
    "\n",
    "df_work.drop(['company_id_y', 'company_avg_work_time_y', 'experinece_y', 'user_working_point_y'], axis=1, inplace=True)\n",
    "df_work.rename(columns={'company_id_x': 'company_id', 'company_avg_work_time_x': 'company_avg_work_time', 'experinece_x': 'experinece', 'user_working_point_x': 'user_working_point'}, inplace=True)\n",
    "\n",
    "\n",
    "temp = df_recession[df_recession.SUBJECT.str.contains('B1_GE') & df_recession.MEASURE.str.contains('GPSA') & df_recession.Country.str.contains('OECD - Europe')][['Period', 'Value']]\n",
    "df_recession = df_recession[df_recession.SUBJECT.str.contains('B1_GE') & df_recession.MEASURE.str.contains('GPSA') & df_recession.Country.str.contains('Türkiye')][['Period', 'Value']]\n",
    "df_recession = pd.concat([df_recession, temp[~temp.Period.isin(df_recession.Period)]])\n",
    "#start_date i 1985 den önce olanları 1985 e çekiyoruz\n",
    "df_work.loc[df_work['start_date'] < '1985-06-01', 'start_date'] = pd.to_datetime('1985-06-01')\n",
    "\n",
    "def get_recession_values(x, start_date, work_time):\n",
    "\n",
    "    if x['Q1'] != 0.0:\n",
    "        return x[['Q1', 'Q2', 'Q3', 'Q4']]\n",
    "\n",
    "    else:\n",
    "        # Start date'den work time kadar gün ekleyerek bitiş tarihini hesapla\n",
    "        end_date = start_date + pd.DateOffset(days=work_time)\n",
    "        if end_date > pd.to_datetime('2019-06-01'):\n",
    "            end_date = pd.to_datetime('2019-06-01')\n",
    "\n",
    "        if 0 < end_date.month < 4:\n",
    "            end_date = end_date.replace(month=1, day=15)\n",
    "        elif 3 < end_date.month < 7:\n",
    "            end_date = end_date.replace(month=4, day=15)\n",
    "        elif 6 < end_date.month < 10:\n",
    "            end_date = end_date.replace(month=7, day=15)\n",
    "        else:\n",
    "            end_date = end_date.replace(month=10, day=15)\n",
    "        # 4 ay önceki tarihi hesapla\n",
    "        four_months_before = end_date - pd.DateOffset(months=4)\n",
    "        # 4 ay sonraki tarihi hesapla\n",
    "        four_months_after = end_date + pd.DateOffset(months=4)\n",
    "\n",
    "        # start_date, six_months_before ve six_months_after tarihlerini Q dönemlerine dönüştür\n",
    "        quarters = pd.period_range(four_months_before, four_months_after, freq='Q').strftime('Q%q-%Y')\n",
    "        # df_recession dataframe'indeki Value değerlerini Q dönemlerine göre grupla\n",
    "        return df_recession.set_index('Period').loc[quarters]['Value'].values.tolist()\n",
    "\n",
    "# df_work dataframe'indeki her bir rowa Q1, Q2, Q3, Q4 kolonları ekle\n",
    "df_work[['Q1', 'Q2', 'Q3', 'Q4']] = pd.DataFrame(df_work.apply(lambda x: get_recession_values(x,x['start_date'], x['work_time']), axis=1, result_type=\"expand\"))\n",
    "\n",
    "df_work.drop(['start_date','company_id', 'user_working_point'], axis=1, inplace=True)\n",
    "df_work.industry.fillna(df_work.industry.mode()[0], inplace=True)\n",
    "df_work.location.fillna(df_work.location.mode()[0], inplace=True)\n",
    "df_work"
   ],
   "metadata": {
    "collapsed": false
   }
  },
  {
   "cell_type": "code",
   "execution_count": 14,
   "outputs": [
    {
     "name": "stdout",
     "output_type": "stream",
     "text": [
      "CPU times: total: 156 ms\n",
      "Wall time: 319 ms\n"
     ]
    }
   ],
   "source": [
    "%%time\n",
    "def get_location(x):\n",
    "    if len(x.split(',')) == 3:\n",
    "        return x.split(',')[1].strip()\n",
    "    elif len(x.split(',')) == 2:\n",
    "        return x.split(',')[0].strip()\n",
    "    elif ',' not in x and ' ' in x:\n",
    "        return x.split(' ')[1].strip()\n",
    "    else:\n",
    "        return x\n",
    "\n",
    "df.location = df.location.str.lower()\n",
    "df.location = df.location.apply(lambda x: get_location(x))\n",
    "df_work.location = df_work.location.str.lower()\n",
    "df_work.location = df_work.location.apply(lambda x: get_location(x))\n",
    "\n",
    "#updating location values with the most common values\n",
    "df.loc[df['location'].map(df['location'].value_counts()) < 400, 'location'] = 'turkey'\n",
    "df_work.loc[df_work['location'].map(df_work['location'].value_counts()) < 900, 'location'] = 'turkey'\n",
    "\n",
    "label = preprocessing.LabelEncoder()\n",
    "df['industry'] = label.fit_transform(df['industry'])\n",
    "df['location'] = label.fit_transform(df['location'])\n",
    "df_work['industry'] = label.fit_transform(df_work['industry'])\n",
    "df_work['location'] = label.fit_transform(df_work['location'])\n",
    "\n",
    "val1 = df[df['moved_after_2019'] == -1]\n",
    "train1 = df[df['moved_after_2019'] != -1]\n",
    "val2 = df_work[df_work['moved_after_2019'] == -1]\n",
    "train2 = df_work[df_work['moved_after_2019'] != -1]\n",
    "\n",
    "Target = ['moved_after_2019']\n",
    "#define x variables for original features aka feature selection\n",
    "data1_x = ['industry', 'location','lang','edu','ability_score','company_avg_work_time','experinece','user_working_point']\n",
    "data2_x = ['user_id', 'work_time', 'company_avg_work_time', 'experinece',\n",
    "           'industry', 'location', 'lang', 'edu',\n",
    "           'ability_score', 'Q1', 'Q2', 'Q3', 'Q4']\n",
    "data1_x_calc = []\n",
    "data1_xy = []\n",
    "\n",
    "#define x variables for original w/bin features to remove continuous variables\n",
    "data1_x_bin = []\n",
    "data1_xy_bin = []\n",
    "\n",
    "#define x and y variables for dummy features original\n",
    "data1_dummy = []\n",
    "data1_x_dummy = []\n",
    "data1_xy_dummy = []"
   ],
   "metadata": {
    "collapsed": false
   }
  },
  {
   "cell_type": "code",
   "execution_count": 38,
   "outputs": [],
   "source": [
    "data2_x = ['company_avg_work_time', 'experinece',\n",
    "           'industry', 'lang', 'edu',\n",
    "           'ability_score', 'Q1', 'Q2', 'Q3', 'Q4']"
   ],
   "metadata": {
    "collapsed": false
   }
  },
  {
   "cell_type": "code",
   "execution_count": 39,
   "outputs": [
   ],
   "source": [
    "from sklearn.model_selection import cross_val_score\n",
    "\n",
    "clf = RandomForestClassifier(  n_estimators=200, class_weight='imbalanced_subsample', random_state=42)\n",
    "cv  = StratifiedKFold(shuffle=True, random_state=42)\n",
    "\n",
    "scores = cross_val_score(clf,train2[data2_x], train2[Target], cv=cv, scoring='accuracy')"
   ],
   "metadata": {
    "collapsed": false
   }
  },
  {
   "cell_type": "code",
   "execution_count": 35,
   "outputs": [
    {
     "name": "stdout",
     "output_type": "stream",
     "text": [
      "Scores mean: 0.9454\n",
      "Scores std: 0.0011\n"
     ]
    }
   ],
   "source": [
    "print(f'Scores mean: {np.mean(scores):.4f}')\n",
    "print(f'Scores std: {np.std(scores):.4f}')"
   ],
   "metadata": {
    "collapsed": false
   }
  },
  {
   "cell_type": "code",
   "execution_count": 36,
   "outputs": [
    {
     "data": {
      "text/plain": "0    10920\n1     2335\nName: moved_after_2019, dtype: int64"
     },
     "execution_count": 36,
     "metadata": {},
     "output_type": "execute_result"
    }
   ],
   "source": [
    "clf.fit(train2[data2_x], train2[Target])\n",
    "val2[Target] = clf.predict(val2[data2_x]).reshape(-1,1)\n",
    "val2.moved_after_2019.value_counts()\n",
    "\n",
    "\n",
    "#df_submissions.loc[val2.index, Target] = clf.predict(val2)\n",
    "\n",
    "#df_submissions[Target] = df_submissions[Target].astype(int)\n",
    "#df_submissions[Target].value_counts()"
   ],
   "metadata": {
    "collapsed": false
   }
  },
  {
   "cell_type": "code",
   "execution_count": 37,
   "outputs": [
    {
     "name": "stdout",
     "output_type": "stream",
     "text": [
      "Validation Data Distribution: \n",
      " 0    0.82384\n",
      "1    0.17616\n",
      "Name: moved_after_2019, dtype: float64\n"
     ]
    },
    {
     "data": {
      "text/plain": "        user_id  moved_after_2019\n50248     21412                 0\n162364    29707                 0\n138227    59583                 0\n135357    58379                 0\n87855     37363                 1\n16526      7142                 1\n89799     38053                 0\n85348     36345                 0\n164186    45952                 0\n70203     30085                 0",
      "text/html": "<div>\n<style scoped>\n    .dataframe tbody tr th:only-of-type {\n        vertical-align: middle;\n    }\n\n    .dataframe tbody tr th {\n        vertical-align: top;\n    }\n\n    .dataframe thead th {\n        text-align: right;\n    }\n</style>\n<table border=\"1\" class=\"dataframe\">\n  <thead>\n    <tr style=\"text-align: right;\">\n      <th></th>\n      <th>user_id</th>\n      <th>moved_after_2019</th>\n    </tr>\n  </thead>\n  <tbody>\n    <tr>\n      <th>50248</th>\n      <td>21412</td>\n      <td>0</td>\n    </tr>\n    <tr>\n      <th>162364</th>\n      <td>29707</td>\n      <td>0</td>\n    </tr>\n    <tr>\n      <th>138227</th>\n      <td>59583</td>\n      <td>0</td>\n    </tr>\n    <tr>\n      <th>135357</th>\n      <td>58379</td>\n      <td>0</td>\n    </tr>\n    <tr>\n      <th>87855</th>\n      <td>37363</td>\n      <td>1</td>\n    </tr>\n    <tr>\n      <th>16526</th>\n      <td>7142</td>\n      <td>1</td>\n    </tr>\n    <tr>\n      <th>89799</th>\n      <td>38053</td>\n      <td>0</td>\n    </tr>\n    <tr>\n      <th>85348</th>\n      <td>36345</td>\n      <td>0</td>\n    </tr>\n    <tr>\n      <th>164186</th>\n      <td>45952</td>\n      <td>0</td>\n    </tr>\n    <tr>\n      <th>70203</th>\n      <td>30085</td>\n      <td>0</td>\n    </tr>\n  </tbody>\n</table>\n</div>"
     },
     "execution_count": 37,
     "metadata": {},
     "output_type": "execute_result"
    }
   ],
   "source": [
    "#submit file\n",
    "submit = val2[['user_id','moved_after_2019']]\n",
    "submit.to_csv(\"../submit.csv\", index=False)\n",
    "\n",
    "print('Validation Data Distribution: \\n', val2['moved_after_2019'].value_counts(normalize = True))\n",
    "submit.sample(10)"
   ],
   "metadata": {
    "collapsed": false
   }
  },
  {
   "cell_type": "code",
   "execution_count": null,
   "outputs": [],
   "source": [
    "['company_avg_work_time' 'experinece' 'user_working_point']\n",
    "AFTER DT RFE Test w/bin score mean: 82.88\n",
    "AFTER DT RFE Test w/bin score 3*std: +/- 0.61\n",
    "----------\n",
    "AFTER DT RFE Tuned Parameters:  {'criterion': 'entropy', 'max_depth': 10, 'random_state': 0}"
   ],
   "metadata": {
    "collapsed": false
   }
  },
  {
   "cell_type": "code",
   "execution_count": null,
   "outputs": [],
   "source": [],
   "metadata": {
    "collapsed": false
   }
  },
  {
   "cell_type": "markdown",
   "source": [
    "# TRAINING\n"
   ],
   "metadata": {
    "collapsed": false
   }
  },
  {
   "cell_type": "code",
   "execution_count": 57,
   "outputs": [
    {
     "name": "stdout",
     "output_type": "stream",
     "text": [
      "CPU times: total: 3min 12s\n",
      "Wall time: 3min 30s\n"
     ]
    },
    {
     "data": {
      "text/plain": "                         MLA Name  \\\n4          RandomForestClassifier   \n2            ExtraTreesClassifier   \n1               BaggingClassifier   \n17                  XGBClassifier   \n13         DecisionTreeClassifier   \n3      GradientBoostingClassifier   \n0              AdaBoostClassifier   \n14            ExtraTreeClassifier   \n12           KNeighborsClassifier   \n5            LogisticRegressionCV   \n7               RidgeClassifierCV   \n15     LinearDiscriminantAnalysis   \n16  QuadraticDiscriminantAnalysis   \n11                     GaussianNB   \n6     PassiveAggressiveClassifier   \n10                    BernoulliNB   \n8                   SGDClassifier   \n9                      Perceptron   \n\n                                       MLA Parameters MLA Train Accuracy Mean  \\\n4   {'bootstrap': True, 'ccp_alpha': 0.0, 'class_w...                     NaN   \n2   {'bootstrap': False, 'ccp_alpha': 0.0, 'class_...                     NaN   \n1   {'base_estimator': 'deprecated', 'bootstrap': ...                     NaN   \n17  {'objective': 'binary:logistic', 'use_label_en...                     NaN   \n13  {'ccp_alpha': 0.0, 'class_weight': None, 'crit...                     NaN   \n3   {'ccp_alpha': 0.0, 'criterion': 'friedman_mse'...                     NaN   \n0   {'algorithm': 'SAMME.R', 'base_estimator': 'de...                     NaN   \n14  {'ccp_alpha': 0.0, 'class_weight': None, 'crit...                     NaN   \n12  {'algorithm': 'auto', 'leaf_size': 30, 'metric...                     NaN   \n5   {'Cs': 10, 'class_weight': None, 'cv': None, '...                     NaN   \n7   {'alphas': (0.1, 1.0, 10.0), 'class_weight': N...                     NaN   \n15  {'covariance_estimator': None, 'n_components':...                     NaN   \n16  {'priors': None, 'reg_param': 0.0, 'store_cova...                     NaN   \n11           {'priors': None, 'var_smoothing': 1e-09}                     NaN   \n6   {'C': 1.0, 'average': False, 'class_weight': N...                     NaN   \n10  {'alpha': 1.0, 'binarize': 0.0, 'class_prior':...                     NaN   \n8   {'alpha': 0.0001, 'average': False, 'class_wei...                     NaN   \n9   {'alpha': 0.0001, 'class_weight': None, 'early...                     NaN   \n\n   MLA Test Accuracy Mean MLA Test Accuracy 3*STD  MLA Time  \n4                0.869999                0.006078  4.072077  \n2                0.862498                0.007085   2.08354  \n1                0.858355                0.005036  1.238196  \n17               0.841412                0.006724  0.987042  \n13               0.825569                0.011069  0.166269  \n3                0.820389                0.005865  3.936567  \n0                0.807802                  0.0087  1.049229  \n14               0.800245                 0.01152  0.025765  \n12               0.760348                0.008896  0.045973  \n5                0.699799                0.004851  2.411881  \n7                0.695939                0.006172  0.021622  \n15               0.695706                0.007126  0.036238  \n16               0.626122                0.006411  0.013493  \n11                0.61048                0.005069  0.010607  \n6                 0.60911                0.246743  0.177398  \n10               0.550604                0.012657  0.013033  \n8                0.546863                0.235368    0.3467  \n9                0.532277                 0.10218  0.027803  ",
      "text/html": "<div>\n<style scoped>\n    .dataframe tbody tr th:only-of-type {\n        vertical-align: middle;\n    }\n\n    .dataframe tbody tr th {\n        vertical-align: top;\n    }\n\n    .dataframe thead th {\n        text-align: right;\n    }\n</style>\n<table border=\"1\" class=\"dataframe\">\n  <thead>\n    <tr style=\"text-align: right;\">\n      <th></th>\n      <th>MLA Name</th>\n      <th>MLA Parameters</th>\n      <th>MLA Train Accuracy Mean</th>\n      <th>MLA Test Accuracy Mean</th>\n      <th>MLA Test Accuracy 3*STD</th>\n      <th>MLA Time</th>\n    </tr>\n  </thead>\n  <tbody>\n    <tr>\n      <th>4</th>\n      <td>RandomForestClassifier</td>\n      <td>{'bootstrap': True, 'ccp_alpha': 0.0, 'class_w...</td>\n      <td>NaN</td>\n      <td>0.869999</td>\n      <td>0.006078</td>\n      <td>4.072077</td>\n    </tr>\n    <tr>\n      <th>2</th>\n      <td>ExtraTreesClassifier</td>\n      <td>{'bootstrap': False, 'ccp_alpha': 0.0, 'class_...</td>\n      <td>NaN</td>\n      <td>0.862498</td>\n      <td>0.007085</td>\n      <td>2.08354</td>\n    </tr>\n    <tr>\n      <th>1</th>\n      <td>BaggingClassifier</td>\n      <td>{'base_estimator': 'deprecated', 'bootstrap': ...</td>\n      <td>NaN</td>\n      <td>0.858355</td>\n      <td>0.005036</td>\n      <td>1.238196</td>\n    </tr>\n    <tr>\n      <th>17</th>\n      <td>XGBClassifier</td>\n      <td>{'objective': 'binary:logistic', 'use_label_en...</td>\n      <td>NaN</td>\n      <td>0.841412</td>\n      <td>0.006724</td>\n      <td>0.987042</td>\n    </tr>\n    <tr>\n      <th>13</th>\n      <td>DecisionTreeClassifier</td>\n      <td>{'ccp_alpha': 0.0, 'class_weight': None, 'crit...</td>\n      <td>NaN</td>\n      <td>0.825569</td>\n      <td>0.011069</td>\n      <td>0.166269</td>\n    </tr>\n    <tr>\n      <th>3</th>\n      <td>GradientBoostingClassifier</td>\n      <td>{'ccp_alpha': 0.0, 'criterion': 'friedman_mse'...</td>\n      <td>NaN</td>\n      <td>0.820389</td>\n      <td>0.005865</td>\n      <td>3.936567</td>\n    </tr>\n    <tr>\n      <th>0</th>\n      <td>AdaBoostClassifier</td>\n      <td>{'algorithm': 'SAMME.R', 'base_estimator': 'de...</td>\n      <td>NaN</td>\n      <td>0.807802</td>\n      <td>0.0087</td>\n      <td>1.049229</td>\n    </tr>\n    <tr>\n      <th>14</th>\n      <td>ExtraTreeClassifier</td>\n      <td>{'ccp_alpha': 0.0, 'class_weight': None, 'crit...</td>\n      <td>NaN</td>\n      <td>0.800245</td>\n      <td>0.01152</td>\n      <td>0.025765</td>\n    </tr>\n    <tr>\n      <th>12</th>\n      <td>KNeighborsClassifier</td>\n      <td>{'algorithm': 'auto', 'leaf_size': 30, 'metric...</td>\n      <td>NaN</td>\n      <td>0.760348</td>\n      <td>0.008896</td>\n      <td>0.045973</td>\n    </tr>\n    <tr>\n      <th>5</th>\n      <td>LogisticRegressionCV</td>\n      <td>{'Cs': 10, 'class_weight': None, 'cv': None, '...</td>\n      <td>NaN</td>\n      <td>0.699799</td>\n      <td>0.004851</td>\n      <td>2.411881</td>\n    </tr>\n    <tr>\n      <th>7</th>\n      <td>RidgeClassifierCV</td>\n      <td>{'alphas': (0.1, 1.0, 10.0), 'class_weight': N...</td>\n      <td>NaN</td>\n      <td>0.695939</td>\n      <td>0.006172</td>\n      <td>0.021622</td>\n    </tr>\n    <tr>\n      <th>15</th>\n      <td>LinearDiscriminantAnalysis</td>\n      <td>{'covariance_estimator': None, 'n_components':...</td>\n      <td>NaN</td>\n      <td>0.695706</td>\n      <td>0.007126</td>\n      <td>0.036238</td>\n    </tr>\n    <tr>\n      <th>16</th>\n      <td>QuadraticDiscriminantAnalysis</td>\n      <td>{'priors': None, 'reg_param': 0.0, 'store_cova...</td>\n      <td>NaN</td>\n      <td>0.626122</td>\n      <td>0.006411</td>\n      <td>0.013493</td>\n    </tr>\n    <tr>\n      <th>11</th>\n      <td>GaussianNB</td>\n      <td>{'priors': None, 'var_smoothing': 1e-09}</td>\n      <td>NaN</td>\n      <td>0.61048</td>\n      <td>0.005069</td>\n      <td>0.010607</td>\n    </tr>\n    <tr>\n      <th>6</th>\n      <td>PassiveAggressiveClassifier</td>\n      <td>{'C': 1.0, 'average': False, 'class_weight': N...</td>\n      <td>NaN</td>\n      <td>0.60911</td>\n      <td>0.246743</td>\n      <td>0.177398</td>\n    </tr>\n    <tr>\n      <th>10</th>\n      <td>BernoulliNB</td>\n      <td>{'alpha': 1.0, 'binarize': 0.0, 'class_prior':...</td>\n      <td>NaN</td>\n      <td>0.550604</td>\n      <td>0.012657</td>\n      <td>0.013033</td>\n    </tr>\n    <tr>\n      <th>8</th>\n      <td>SGDClassifier</td>\n      <td>{'alpha': 0.0001, 'average': False, 'class_wei...</td>\n      <td>NaN</td>\n      <td>0.546863</td>\n      <td>0.235368</td>\n      <td>0.3467</td>\n    </tr>\n    <tr>\n      <th>9</th>\n      <td>Perceptron</td>\n      <td>{'alpha': 0.0001, 'class_weight': None, 'early...</td>\n      <td>NaN</td>\n      <td>0.532277</td>\n      <td>0.10218</td>\n      <td>0.027803</td>\n    </tr>\n  </tbody>\n</table>\n</div>"
     },
     "execution_count": 57,
     "metadata": {},
     "output_type": "execute_result"
    }
   ],
   "source": [
    "%%time\n",
    "#Machine Learning Algorithm (MLA) Selection and Initialization\n",
    "MLA = [\n",
    "    #Ensemble Methods\n",
    "    ensemble.AdaBoostClassifier(),\n",
    "    ensemble.BaggingClassifier(),\n",
    "    ensemble.ExtraTreesClassifier(),\n",
    "    ensemble.GradientBoostingClassifier(),\n",
    "    ensemble.RandomForestClassifier(),\n",
    "\n",
    "    #Gaussian Processes\n",
    "    #gaussian_process.GaussianProcessClassifier(),\n",
    "\n",
    "    #GLM\n",
    "    linear_model.LogisticRegressionCV(),\n",
    "    linear_model.PassiveAggressiveClassifier(),\n",
    "    linear_model.RidgeClassifierCV(),\n",
    "    linear_model.SGDClassifier(),\n",
    "    linear_model.Perceptron(),\n",
    "\n",
    "    #Navies Bayes\n",
    "    naive_bayes.BernoulliNB(),\n",
    "    naive_bayes.GaussianNB(),\n",
    "\n",
    "    #Nearest Neighbor\n",
    "    neighbors.KNeighborsClassifier(),\n",
    "\n",
    "    #Trees\n",
    "    tree.DecisionTreeClassifier(),\n",
    "    tree.ExtraTreeClassifier(),\n",
    "\n",
    "    #Discriminant Analysis\n",
    "    discriminant_analysis.LinearDiscriminantAnalysis(),\n",
    "    discriminant_analysis.QuadraticDiscriminantAnalysis(),\n",
    "\n",
    "\n",
    "    #xgboost: http://xgboost.readthedocs.io/en/latest/model.html\n",
    "    XGBClassifier()\n",
    "]\n",
    "\n",
    "\n",
    "\n",
    "#split dataset in cross-validation with this splitter class: http://scikit-learn.org/stable/modules/generated/sklearn.model_selection.ShuffleSplit.html#sklearn.model_selection.ShuffleSplit\n",
    "#note: this is an alternative to train_test_split\n",
    "cv_split = model_selection.ShuffleSplit(n_splits = 10, test_size = .3, train_size = .6, random_state = 0 ) # run model 10x with 60/30 split intentionally leaving out 10%\n",
    "\n",
    "#create table to compare MLA metrics\n",
    "MLA_columns = ['MLA Name', 'MLA Parameters','MLA Train Accuracy Mean', 'MLA Test Accuracy Mean', 'MLA Test Accuracy 3*STD' ,'MLA Time']\n",
    "MLA_compare = pd.DataFrame(columns = MLA_columns)\n",
    "\n",
    "#create table to compare MLA predictions\n",
    "MLA_predict = train1[Target]\n",
    "\n",
    "#index through MLA and save performance to table\n",
    "row_index = 0\n",
    "for alg in MLA:\n",
    "\n",
    "    #set name and parameters\n",
    "    MLA_name = alg.__class__.__name__\n",
    "    MLA_compare.loc[row_index, 'MLA Name'] = MLA_name\n",
    "    MLA_compare.loc[row_index, 'MLA Parameters'] = str(alg.get_params())\n",
    "\n",
    "    #score model with cross validation: http://scikit-learn.org/stable/modules/generated/sklearn.model_selection.cross_validate.html#sklearn.model_selection.cross_validate\n",
    "    cv_results = model_selection.cross_validate(alg, train1[data1_x], train1[Target], cv  = cv_split)\n",
    "\n",
    "    MLA_compare.loc[row_index, 'MLA Time'] = cv_results['fit_time'].mean()\n",
    "    #MLA_compare.loc[row_index, 'MLA Train Accuracy Mean'] = cv_results['train_score'].mean()\n",
    "    MLA_compare.loc[row_index, 'MLA Test Accuracy Mean'] = cv_results['test_score'].mean()\n",
    "    #if this is a non-bias random sample, then +/-3 standard deviations (std) from the mean, should statistically capture 99.7% of the subsets\n",
    "    MLA_compare.loc[row_index, 'MLA Test Accuracy 3*STD'] = cv_results['test_score'].std()*3   #let's know the worst that can happen!\n",
    "\n",
    "\n",
    "    #save MLA predictions - see section 6 for usage\n",
    "    alg.fit(train1[data1_x], train1[Target])\n",
    "    MLA_predict[MLA_name] = alg.predict(train1[data1_x])\n",
    "\n",
    "    row_index+=1\n",
    "\n",
    "\n",
    "#print and sort table: https://pandas.pydata.org/pandas-docs/stable/generated/pandas.DataFrame.sort_values.html\n",
    "MLA_compare.sort_values(by = ['MLA Test Accuracy Mean'], ascending = False, inplace = True)\n",
    "MLA_compare\n",
    "#MLA_predict"
   ],
   "metadata": {
    "collapsed": false
   }
  },
  {
   "cell_type": "code",
   "execution_count": 10,
   "outputs": [
    {
     "data": {
      "text/plain": "{'fit_time': array([0.88239908, 0.87338877, 0.85712838, 0.86183333, 0.86131072,\n        0.86231065, 0.85129499, 0.85143638, 0.85902238, 0.87497067]),\n 'score_time': array([0.01356554, 0.00852251, 0.00902462, 0.00901532, 0.01003289,\n        0.01007366, 0.01353407, 0.01003003, 0.00902677, 0.00851846]),\n 'test_score': array([0.83911731, 0.84402112, 0.84358104, 0.83949453, 0.84502703,\n        0.84068905, 0.84257513, 0.83760845, 0.84087766, 0.84112913])}"
     },
     "execution_count": 10,
     "metadata": {},
     "output_type": "execute_result"
    }
   ],
   "source": [
    "cv_results"
   ],
   "metadata": {
    "collapsed": false
   }
  },
  {
   "cell_type": "code",
   "execution_count": 41,
   "outputs": [
    {
     "data": {
      "text/plain": "Text(0, 0.5, 'Algorithm')"
     },
     "execution_count": 41,
     "metadata": {},
     "output_type": "execute_result"
    },
    {
     "data": {
      "text/plain": "<Figure size 640x480 with 1 Axes>",
      "image/png": "[encoded data removed]"
     },
     "metadata": {},
     "output_type": "display_data"
    }
   ],
   "source": [
    "#barplot using https://seaborn.pydata.org/generated/seaborn.barplot.html\n",
    "sns.barplot(x='MLA Test Accuracy Mean', y = 'MLA Name', data = MLA_compare, color = 'm')\n",
    "\n",
    "#prettify using pyplot: https://matplotlib.org/api/pyplot_api.html\n",
    "plt.title('Machine Learning Algorithm Accuracy Score \\n')\n",
    "plt.xlabel('Accuracy Score (%)')\n",
    "plt.ylabel('Algorithm')"
   ],
   "metadata": {
    "collapsed": false
   }
  },
  {
   "cell_type": "code",
   "execution_count": 59,
   "outputs": [
    {
     "name": "stdout",
     "output_type": "stream",
     "text": [
      "AdaBoostClassifier :\t 0\n",
      "0    11447\n",
      "1     1808\n",
      "Name: moved_after_2019, dtype: int64\n",
      "BaggingClassifier :\t 1\n",
      "0    11673\n",
      "1     1582\n",
      "Name: moved_after_2019, dtype: int64\n",
      "ExtraTreesClassifier :\t 2\n",
      "0    11380\n",
      "1     1875\n",
      "Name: moved_after_2019, dtype: int64\n",
      "GradientBoostingClassifier :\t 3\n",
      "0    11510\n",
      "1     1745\n",
      "Name: moved_after_2019, dtype: int64\n",
      "RandomForestClassifier :\t 4\n",
      "0    11607\n",
      "1     1648\n",
      "Name: moved_after_2019, dtype: int64\n",
      "LogisticRegressionCV :\t 5\n",
      "0    11001\n",
      "1     2254\n",
      "Name: moved_after_2019, dtype: int64\n",
      "PassiveAggressiveClassifier :\t 6\n",
      "0    10779\n",
      "1     2476\n",
      "Name: moved_after_2019, dtype: int64\n",
      "RidgeClassifierCV :\t 7\n",
      "0    9812\n",
      "1    3443\n",
      "Name: moved_after_2019, dtype: int64\n",
      "SGDClassifier :\t 8\n",
      "0    12104\n",
      "1     1151\n",
      "Name: moved_after_2019, dtype: int64\n",
      "Perceptron :\t 9\n",
      "0    10921\n",
      "1     2334\n",
      "Name: moved_after_2019, dtype: int64\n",
      "BernoulliNB :\t 10\n",
      "1    9120\n",
      "0    4135\n",
      "Name: moved_after_2019, dtype: int64\n",
      "GaussianNB :\t 11\n",
      "1    7907\n",
      "0    5348\n",
      "Name: moved_after_2019, dtype: int64\n",
      "KNeighborsClassifier :\t 12\n",
      "0    10416\n",
      "1     2839\n",
      "Name: moved_after_2019, dtype: int64\n",
      "DecisionTreeClassifier :\t 13\n",
      "0    10765\n",
      "1     2490\n",
      "Name: moved_after_2019, dtype: int64\n",
      "ExtraTreeClassifier :\t 14\n",
      "0    10518\n",
      "1     2737\n",
      "Name: moved_after_2019, dtype: int64\n",
      "LinearDiscriminantAnalysis :\t 15\n",
      "0    9711\n",
      "1    3544\n",
      "Name: moved_after_2019, dtype: int64\n",
      "QuadraticDiscriminantAnalysis :\t 16\n",
      "1    7647\n",
      "0    5608\n",
      "Name: moved_after_2019, dtype: int64\n",
      "XGBClassifier :\t 17\n",
      "0    11724\n",
      "1     1531\n",
      "Name: moved_after_2019, dtype: int64\n"
     ]
    }
   ],
   "source": [
    "for i in range(0, len(MLA)):\n",
    "    val1[Target] = MLA[i].predict(val1[data1_x]).reshape(-1,1)\n",
    "    print(MLA[i].__class__.__name__, ':\\t' , i)\n",
    "    print(val1.moved_after_2019.value_counts())"
   ],
   "metadata": {
    "collapsed": false
   }
  },
  {
   "cell_type": "code",
   "execution_count": 60,
   "outputs": [],
   "source": [
    "val1[Target] = MLA[7].predict(val1[data1_x]).reshape(-1,1)\n",
    "#submit file\n",
    "submit = val1[['user_id','moved_after_2019']]\n",
    "submit.to_csv(\"../submission.csv\", index=False)"
   ],
   "metadata": {
    "collapsed": false
   }
  },
  {
   "cell_type": "code",
   "execution_count": 54,
   "outputs": [
    {
     "name": "stdout",
     "output_type": "stream",
     "text": [
      "BEFORE DT Parameters:  {'ccp_alpha': 0.0, 'class_weight': None, 'criterion': 'gini', 'max_depth': None, 'max_features': None, 'max_leaf_nodes': None, 'min_impurity_decrease': 0.0, 'min_samples_leaf': 1, 'min_samples_split': 2, 'min_weight_fraction_leaf': 0.0, 'random_state': 0, 'splitter': 'best'}\n",
      "BEFORE DT Test w/bin score mean: 92.72\n",
      "BEFORE DT Test w/bin score 3*std: +/- 0.39\n",
      "----------\n",
      "AFTER DT Parameters:  {'criterion': 'entropy', 'max_depth': 10, 'random_state': 0}\n",
      "AFTER DT Test w/bin score mean: 97.24\n",
      "AFTER DT Test w/bin score 3*std: +/- 0.19\n",
      "----------\n"
     ]
    }
   ],
   "source": [
    "#base model\n",
    "dtree = tree.DecisionTreeClassifier(random_state = 0)\n",
    "base_results = model_selection.cross_validate(dtree,  train2[data2_x], train2[Target], cv  = cv_split)\n",
    "dtree.fit( train2[data2_x], train2[Target])\n",
    "\n",
    "print('BEFORE DT Parameters: ', dtree.get_params())\n",
    "#print(\"BEFORE DT Training w/bin score mean: {:.2f}\". format(base_results['train_score'].mean()*100))\n",
    "print(\"BEFORE DT Test w/bin score mean: {:.2f}\". format(base_results['test_score'].mean()*100))\n",
    "print(\"BEFORE DT Test w/bin score 3*std: +/- {:.2f}\". format(base_results['test_score'].std()*100*3))\n",
    "#print(\"BEFORE DT Test w/bin set score min: {:.2f}\". format(base_results['test_score'].min()*100))\n",
    "print('-'*10)\n",
    "\n",
    "\n",
    "#tune hyper-parameters: http://scikit-learn.org/stable/modules/generated/sklearn.tree.DecisionTreeClassifier.html#sklearn.tree.DecisionTreeClassifier\n",
    "param_grid = {'criterion': ['gini', 'entropy'],  #scoring methodology; two supported formulas for calculating information gain - default is gini\n",
    "              #'splitter': ['best', 'random'], #splitting methodology; two supported strategies - default is best\n",
    "              'max_depth': [2,4,6,8,10,None], #max depth tree can grow; default is none\n",
    "              #'min_samples_split': [2,5,10,.03,.05], #minimum subset size BEFORE new split (fraction is % of total); default is 2\n",
    "              #'min_samples_leaf': [1,5,10,.03,.05], #minimum subset size AFTER new split split (fraction is % of total); default is 1\n",
    "              #'max_features': [None, 'auto'], #max features to consider when performing split; default none or all\n",
    "              'random_state': [0] #seed or control random number generator: https://www.quora.com/What-is-seed-in-random-number-generation\n",
    "              }\n",
    "\n",
    "#print(list(model_selection.ParameterGrid(param_grid)))\n",
    "\n",
    "#choose best model with grid_search: #http://scikit-learn.org/stable/modules/grid_search.html#grid-search\n",
    "#http://scikit-learn.org/stable/auto_examples/model_selection/plot_grid_search_digits.html\n",
    "tune_model = model_selection.GridSearchCV(tree.DecisionTreeClassifier(), param_grid=param_grid, scoring = 'roc_auc', cv = cv_split)\n",
    "tune_model.fit( train2[data2_x], train2[Target])\n",
    "\n",
    "#print(tune_model.cv_results_.keys())\n",
    "#print(tune_model.cv_results_['params'])\n",
    "print('AFTER DT Parameters: ', tune_model.best_params_)\n",
    "#print(tune_model.cv_results_['mean_train_score'])\n",
    "#print(\"AFTER DT Training w/bin score mean: {:.2f}\". format(tune_model.cv_results_['mean_train_score'][tune_model.best_index_]*100))\n",
    "#print(tune_model.cv_results_['mean_test_score'])\n",
    "print(\"AFTER DT Test w/bin score mean: {:.2f}\". format(tune_model.cv_results_['mean_test_score'][tune_model.best_index_]*100))\n",
    "print(\"AFTER DT Test w/bin score 3*std: +/- {:.2f}\". format(tune_model.cv_results_['std_test_score'][tune_model.best_index_]*100*3))\n",
    "print('-'*10)\n",
    "\n",
    "\n",
    "#duplicates gridsearchcv\n",
    "#tune_results = model_selection.cross_validate(tune_model, data1[data1_x_bin], data1[Target], cv  = cv_split)\n",
    "\n",
    "#print('AFTER DT Parameters: ', tune_model.best_params_)\n",
    "#print(\"AFTER DT Training w/bin set score mean: {:.2f}\". format(tune_results['train_score'].mean()*100))\n",
    "#print(\"AFTER DT Test w/bin set score mean: {:.2f}\". format(tune_results['test_score'].mean()*100))\n",
    "#print(\"AFTER DT Test w/bin set score min: {:.2f}\". format(tune_results['test_score'].min()*100))\n",
    "#print('-'*10)"
   ],
   "metadata": {
    "collapsed": false
   }
  },
  {
   "cell_type": "code",
   "execution_count": 55,
   "outputs": [
    {
     "name": "stdout",
     "output_type": "stream",
     "text": [
      "BEFORE DT RFE Training Shape Old:  (151709, 11)\n",
      "BEFORE DT RFE Training Columns Old:  ['company_avg_work_time' 'experinece' 'industry' 'location' 'lang' 'edu'\n",
      " 'ability_score' 'Q1' 'Q2' 'Q3' 'Q4']\n",
      "BEFORE DT RFE Test w/bin score mean: 92.72\n",
      "BEFORE DT RFE Test w/bin score 3*std: +/- 0.39\n",
      "----------\n",
      "AFTER DT RFE Training Shape New:  (151709, 6)\n",
      "AFTER DT RFE Training Columns New:  ['company_avg_work_time' 'experinece' 'industry' 'edu' 'ability_score'\n",
      " 'Q3']\n",
      "AFTER DT RFE Test w/bin score mean: 92.76\n",
      "AFTER DT RFE Test w/bin score 3*std: +/- 0.39\n",
      "----------\n",
      "AFTER DT RFE Tuned Parameters:  {'criterion': 'entropy', 'max_depth': 10, 'random_state': 0}\n",
      "AFTER DT RFE Tuned Test w/bin score mean: 97.23\n",
      "AFTER DT RFE Tuned Test w/bin score 3*std: +/- 0.21\n",
      "----------\n"
     ]
    }
   ],
   "source": [
    "#base model\n",
    "print('BEFORE DT RFE Training Shape Old: ',  train2[data2_x].shape)\n",
    "print('BEFORE DT RFE Training Columns Old: ',  train2[data2_x].columns.values)\n",
    "\n",
    "#print(\"BEFORE DT RFE Training w/bin score mean: {:.2f}\". format(base_results['train_score'].mean()*100))\n",
    "print(\"BEFORE DT RFE Test w/bin score mean: {:.2f}\". format(base_results['test_score'].mean()*100))\n",
    "print(\"BEFORE DT RFE Test w/bin score 3*std: +/- {:.2f}\". format(base_results['test_score'].std()*100*3))\n",
    "print('-'*10)\n",
    "\n",
    "\n",
    "\n",
    "#feature selection\n",
    "dtree_rfe = feature_selection.RFECV(dtree, step = 1, scoring = 'accuracy', cv = cv_split)\n",
    "dtree_rfe.fit( train2[data2_x], train2[Target])\n",
    "\n",
    "#transform x&y to reduced features and fit new model\n",
    "#alternative: can use pipeline to reduce fit and transform steps: http://scikit-learn.org/stable/modules/generated/sklearn.pipeline.Pipeline.html\n",
    "X_rfe = train2[data2_x].columns.values[dtree_rfe.get_support()]\n",
    "rfe_results = model_selection.cross_validate(dtree, train2[X_rfe], train2[Target], cv  = cv_split)\n",
    "\n",
    "#print(dtree_rfe.grid_scores_)\n",
    "print('AFTER DT RFE Training Shape New: ', train2[X_rfe].shape)\n",
    "print('AFTER DT RFE Training Columns New: ', X_rfe)\n",
    "\n",
    "#print(\"AFTER DT RFE Training w/bin score mean: {:.2f}\". format(rfe_results['train_score'].mean()*100))\n",
    "print(\"AFTER DT RFE Test w/bin score mean: {:.2f}\". format(rfe_results['test_score'].mean()*100))\n",
    "print(\"AFTER DT RFE Test w/bin score 3*std: +/- {:.2f}\". format(rfe_results['test_score'].std()*100*3))\n",
    "print('-'*10)\n",
    "\n",
    "\n",
    "#tune rfe model\n",
    "rfe_tune_model = model_selection.GridSearchCV(tree.DecisionTreeClassifier(), param_grid=param_grid, scoring = 'roc_auc', cv = cv_split)\n",
    "rfe_tune_model.fit(train2[X_rfe], train2[Target])\n",
    "\n",
    "#print(rfe_tune_model.cv_results_.keys())\n",
    "#print(rfe_tune_model.cv_results_['params'])\n",
    "print('AFTER DT RFE Tuned Parameters: ', rfe_tune_model.best_params_)\n",
    "#print(rfe_tune_model.cv_results_['mean_train_score'])\n",
    "#print(\"AFTER DT RFE Tuned Training w/bin score mean: {:.2f}\". format(rfe_tune_model.cv_results_['mean_train_score'][tune_model.best_index_]*100))\n",
    "#print(rfe_tune_model.cv_results_['mean_test_score'])\n",
    "print(\"AFTER DT RFE Tuned Test w/bin score mean: {:.2f}\". format(rfe_tune_model.cv_results_['mean_test_score'][tune_model.best_index_]*100))\n",
    "print(\"AFTER DT RFE Tuned Test w/bin score 3*std: +/- {:.2f}\". format(rfe_tune_model.cv_results_['std_test_score'][tune_model.best_index_]*100*3))\n",
    "print('-'*10)"
   ],
   "metadata": {
    "collapsed": false
   }
  },
  {
   "cell_type": "code",
   "execution_count": 56,
   "outputs": [
    {
     "data": {
      "text/plain": "0    11972\n1     1283\nName: moved_after_2019, dtype: int64"
     },
     "execution_count": 56,
     "metadata": {},
     "output_type": "execute_result"
    }
   ],
   "source": [
    "val2[Target] = rfe_tune_model.predict(val2[X_rfe]).reshape(-1,1)\n",
    "val2.moved_after_2019.value_counts()"
   ],
   "metadata": {
    "collapsed": false
   }
  },
  {
   "cell_type": "code",
   "execution_count": null,
   "outputs": [],
   "source": [
    "#Graph MLA version of Decision Tree: http://scikit-learn.org/stable/modules/generated/sklearn.tree.export_graphviz.html\n",
    "import graphviz\n",
    "dot_data = tree.export_graphviz(dtree, out_file=None,\n",
    "                                feature_names = data1_x_bin, class_names = True,\n",
    "                                filled = True, rounded = True)\n",
    "graph = graphviz.Source(dot_data)\n",
    "graph"
   ],
   "metadata": {
    "collapsed": false
   }
  },
  {
   "cell_type": "code",
   "execution_count": null,
   "outputs": [],
   "source": [
    "#compare algorithm predictions with each other, where 1 = exactly similar and 0 = exactly opposite\n",
    "#there are some 1's, but enough blues and light reds to create a \"super algorithm\" by combining them\n",
    "correlation_heatmap(MLA_predict)"
   ],
   "metadata": {
    "collapsed": false
   }
  },
  {
   "cell_type": "code",
   "execution_count": 15,
   "outputs": [
    {
     "name": "stdout",
     "output_type": "stream",
     "text": [
      "Hard Voting Test w/bin score mean: 84.98\n",
      "Hard Voting Test w/bin score 3*std: +/- 0.49\n",
      "----------\n",
      "Soft Voting Test w/bin score mean: 86.13\n",
      "Soft Voting Test w/bin score 3*std: +/- 0.63\n",
      "----------\n"
     ]
    }
   ],
   "source": [
    "#why choose one model, when you can pick them all with voting classifier\n",
    "#http://scikit-learn.org/stable/modules/generated/sklearn.ensemble.VotingClassifier.html\n",
    "#removed models w/o attribute 'predict_proba' required for vote classifier and models with a 1.0 correlation to another model\n",
    "vote_est = [\n",
    "    #Ensemble Methods: http://scikit-learn.org/stable/modules/ensemble.html\n",
    "    ('ada', ensemble.AdaBoostClassifier()),\n",
    "    ('bc', ensemble.BaggingClassifier()),\n",
    "    ('etc',ensemble.ExtraTreesClassifier()),\n",
    "    ('gbc', ensemble.GradientBoostingClassifier()),\n",
    "    ('rfc', ensemble.RandomForestClassifier()),\n",
    "\n",
    "\n",
    "    #GLM: http://scikit-learn.org/stable/modules/linear_model.html#logistic-regression\n",
    "    ('lr', linear_model.LogisticRegressionCV()),\n",
    "\n",
    "    #Navies Bayes: http://scikit-learn.org/stable/modules/naive_bayes.html\n",
    "    ('bnb', naive_bayes.BernoulliNB()),\n",
    "    ('gnb', naive_bayes.GaussianNB()),\n",
    "\n",
    "    #Nearest Neighbor: http://scikit-learn.org/stable/modules/neighbors.html\n",
    "    ('knn', neighbors.KNeighborsClassifier()),\n",
    "\n",
    "    #SVM: http://scikit-learn.org/stable/modules/svm.html\n",
    "    ('svc', svm.SVC(probability=True)),\n",
    "\n",
    "    #xgboost: http://xgboost.readthedocs.io/en/latest/model.html\n",
    "    ('xgb', XGBClassifier())\n",
    "\n",
    "]\n",
    "\n",
    "\n",
    "#Hard Vote or majority rules\n",
    "vote_hard = ensemble.VotingClassifier(estimators = vote_est , voting = 'hard')\n",
    "vote_hard_cv = model_selection.cross_validate(vote_hard,  train1[data1_x], train1[Target], cv  = cv_split)\n",
    "vote_hard.fit( train1[data1_x], train1[Target])\n",
    "\n",
    "#print(\"Hard Voting Training w/bin score mean: {:.2f}\". format(vote_hard_cv['train_score'].mean()*100))\n",
    "print(\"Hard Voting Test w/bin score mean: {:.2f}\". format(vote_hard_cv['test_score'].mean()*100))\n",
    "print(\"Hard Voting Test w/bin score 3*std: +/- {:.2f}\". format(vote_hard_cv['test_score'].std()*100*3))\n",
    "print('-'*10)\n",
    "\n",
    "\n",
    "#Soft Vote or weighted probabilities\n",
    "vote_soft = ensemble.VotingClassifier(estimators = vote_est , voting = 'soft')\n",
    "vote_soft_cv = model_selection.cross_validate(vote_soft, train1[data1_x], train1[Target], cv  = cv_split)\n",
    "vote_soft.fit( train1[data1_x], train1[Target])\n",
    "\n",
    "#print(\"Soft Voting Training w/bin score mean: {:.2f}\". format(vote_soft_cv['train_score'].mean()*100))\n",
    "print(\"Soft Voting Test w/bin score mean: {:.2f}\". format(vote_soft_cv['test_score'].mean()*100))\n",
    "print(\"Soft Voting Test w/bin score 3*std: +/- {:.2f}\". format(vote_soft_cv['test_score'].std()*100*3))\n",
    "print('-'*10)"
   ],
   "metadata": {
    "collapsed": false
   }
  },
  {
   "cell_type": "code",
   "execution_count": 16,
   "outputs": [
    {
     "name": "stdout",
     "output_type": "stream",
     "text": [
      "The best parameter for AdaBoostClassifier is {'learning_rate': 0.25, 'n_estimators': 300, 'random_state': 0} with a runtime of 490.13 seconds.\n",
      "The best parameter for BaggingClassifier is {'max_samples': 1.0, 'n_estimators': 300, 'random_state': 0} with a runtime of 1797.05 seconds.\n",
      "The best parameter for ExtraTreesClassifier is {'criterion': 'entropy', 'max_depth': None, 'n_estimators': 300, 'random_state': 0} with a runtime of 503.32 seconds.\n",
      "The best parameter for GradientBoostingClassifier is {'learning_rate': 0.05, 'max_depth': 10, 'n_estimators': 300, 'random_state': 0} with a runtime of 2292.24 seconds.\n"
     ]
    }
   ],
   "source": [
    "import time\n",
    "\n",
    "#WARNING: Running is very computational intensive and time expensive.\n",
    "#Code is written for experimental/developmental purposes and not production ready!\n",
    "\n",
    "\n",
    "#Hyperparameter Tune with GridSearchCV: http://scikit-learn.org/stable/modules/generated/sklearn.model_selection.GridSearchCV.html\n",
    "grid_n_estimator = [10, 50, 100, 300]\n",
    "grid_ratio = [.1, .25, .5, .75, 1.0]\n",
    "grid_learn = [.01, .03, .05, .1, .25]\n",
    "grid_max_depth = [2, 4, 6, 8, 10, None]\n",
    "grid_min_samples = [5, 10, .03, .05, .10]\n",
    "grid_criterion = ['gini', 'entropy']\n",
    "grid_bool = [True, False]\n",
    "grid_seed = [0]\n",
    "\n",
    "\n",
    "grid_param = [\n",
    "    [{\n",
    "        #AdaBoostClassifier - http://scikit-learn.org/stable/modules/generated/sklearn.ensemble.AdaBoostClassifier.html\n",
    "        'n_estimators': grid_n_estimator, #default=50\n",
    "        'learning_rate': grid_learn, #default=1\n",
    "        #'algorithm': ['SAMME', 'SAMME.R'], #default=’SAMME.R\n",
    "        'random_state': grid_seed\n",
    "    }],\n",
    "\n",
    "\n",
    "    [{\n",
    "        #BaggingClassifier - http://scikit-learn.org/stable/modules/generated/sklearn.ensemble.BaggingClassifier.html#sklearn.ensemble.BaggingClassifier\n",
    "        'n_estimators': grid_n_estimator, #default=10\n",
    "        'max_samples': grid_ratio, #default=1.0\n",
    "        'random_state': grid_seed\n",
    "    }],\n",
    "\n",
    "\n",
    "    [{\n",
    "        #ExtraTreesClassifier - http://scikit-learn.org/stable/modules/generated/sklearn.ensemble.ExtraTreesClassifier.html#sklearn.ensemble.ExtraTreesClassifier\n",
    "        'n_estimators': grid_n_estimator, #default=10\n",
    "        'criterion': grid_criterion, #default=”gini”\n",
    "        'max_depth': grid_max_depth, #default=None\n",
    "        'random_state': grid_seed\n",
    "    }],\n",
    "\n",
    "\n",
    "    [{\n",
    "        #GradientBoostingClassifier - http://scikit-learn.org/stable/modules/generated/sklearn.ensemble.GradientBoostingClassifier.html#sklearn.ensemble.GradientBoostingClassifier\n",
    "        #'loss': ['deviance', 'exponential'], #default=’deviance’\n",
    "        'learning_rate': [.05], #default=0.1 -- 12/31/17 set to reduce runtime -- The best parameter for GradientBoostingClassifier is {'learning_rate': 0.05, 'max_depth': 2, 'n_estimators': 300, 'random_state': 0} with a runtime of 264.45 seconds.\n",
    "        'n_estimators': [300], #default=100 -- 12/31/17 set to reduce runtime -- The best parameter for GradientBoostingClassifier is {'learning_rate': 0.05, 'max_depth': 2, 'n_estimators': 300, 'random_state': 0} with a runtime of 264.45 seconds.\n",
    "        #'criterion': ['friedman_mse', 'mse', 'mae'], #default=”friedman_mse”\n",
    "        'max_depth': grid_max_depth, #default=3\n",
    "        'random_state': grid_seed\n",
    "    }],\n",
    "\n",
    "\n",
    "    [{\n",
    "        #RandomForestClassifier - http://scikit-learn.org/stable/modules/generated/sklearn.ensemble.RandomForestClassifier.html#sklearn.ensemble.RandomForestClassifier\n",
    "        'n_estimators': grid_n_estimator, #default=10\n",
    "        'criterion': grid_criterion, #default=”gini”\n",
    "        'max_depth': grid_max_depth, #default=None\n",
    "        'oob_score': [True], #default=False -- 12/31/17 set to reduce runtime -- The best parameter for RandomForestClassifier is {'criterion': 'entropy', 'max_depth': 6, 'n_estimators': 100, 'oob_score': True, 'random_state': 0} with a runtime of 146.35 seconds.\n",
    "        'random_state': grid_seed\n",
    "    }],\n",
    "\n",
    "    [{\n",
    "        #GaussianProcessClassifier\n",
    "        'max_iter_predict': grid_n_estimator, #default: 100\n",
    "        'random_state': grid_seed\n",
    "    }],\n",
    "\n",
    "\n",
    "    [{\n",
    "        #LogisticRegressionCV - http://scikit-learn.org/stable/modules/generated/sklearn.linear_model.LogisticRegressionCV.html#sklearn.linear_model.LogisticRegressionCV\n",
    "        'fit_intercept': grid_bool, #default: True\n",
    "        #'penalty': ['l1','l2'],\n",
    "        'solver': ['newton-cg', 'lbfgs', 'liblinear', 'sag', 'saga'], #default: lbfgs\n",
    "        'random_state': grid_seed\n",
    "    }],\n",
    "\n",
    "\n",
    "    [{\n",
    "        #BernoulliNB - http://scikit-learn.org/stable/modules/generated/sklearn.naive_bayes.BernoulliNB.html#sklearn.naive_bayes.BernoulliNB\n",
    "        'alpha': grid_ratio, #default: 1.0\n",
    "    }],\n",
    "\n",
    "\n",
    "    #GaussianNB -\n",
    "    [{}],\n",
    "\n",
    "    [{\n",
    "        #KNeighborsClassifier - http://scikit-learn.org/stable/modules/generated/sklearn.neighbors.KNeighborsClassifier.html#sklearn.neighbors.KNeighborsClassifier\n",
    "        'n_neighbors': [1,2,3,4,5,6,7], #default: 5\n",
    "        'weights': ['uniform', 'distance'], #default = ‘uniform’\n",
    "        'algorithm': ['auto', 'ball_tree', 'kd_tree', 'brute']\n",
    "    }],\n",
    "\n",
    "\n",
    "    [{\n",
    "        #SVC - http://scikit-learn.org/stable/modules/generated/sklearn.svm.SVC.html#sklearn.svm.SVC\n",
    "        #http://blog.hackerearth.com/simple-tutorial-svm-parameter-tuning-python-r\n",
    "        #'kernel': ['linear', 'poly', 'rbf', 'sigmoid'],\n",
    "        'C': [1,2,3,4,5], #default=1.0\n",
    "        'gamma': grid_ratio, #edfault: auto\n",
    "        'decision_function_shape': ['ovo', 'ovr'], #default:ovr\n",
    "        'probability': [True],\n",
    "        'random_state': grid_seed\n",
    "    }],\n",
    "\n",
    "\n",
    "    [{\n",
    "        #XGBClassifier - http://xgboost.readthedocs.io/en/latest/parameter.html\n",
    "        'learning_rate': grid_learn, #default: .3\n",
    "        'max_depth': [1,2,4,6,8,10], #default 2\n",
    "        'n_estimators': grid_n_estimator,\n",
    "        'seed': grid_seed\n",
    "    }]\n",
    "]\n",
    "\n",
    "\n",
    "\n",
    "start_total = time.perf_counter() #https://docs.python.org/3/library/time.html#time.perf_counter\n",
    "for clf, param in zip (vote_est, grid_param): #https://docs.python.org/3/library/functions.html#zip\n",
    "\n",
    "    #print(clf[1]) #vote_est is a list of tuples, index 0 is the name and index 1 is the algorithm\n",
    "    #print(param)\n",
    "\n",
    "\n",
    "    start = time.perf_counter()\n",
    "    best_search = model_selection.GridSearchCV(estimator = clf[1], param_grid = param, cv = cv_split, scoring = 'roc_auc')\n",
    "    best_search.fit( train1[data1_x], train1[Target])\n",
    "    run = time.perf_counter() - start\n",
    "\n",
    "    best_param = best_search.best_params_\n",
    "    print('The best parameter for {} is {} with a runtime of {:.2f} seconds.'.format(clf[1].__class__.__name__, best_param, run))\n",
    "    clf[1].set_params(**best_param)\n",
    "\n",
    "\n",
    "run_total = time.perf_counter() - start_total\n",
    "print('Total optimization time was {:.2f} minutes.'.format(run_total/60))\n",
    "\n",
    "print('-'*10)"
   ],
   "metadata": {
    "collapsed": false
   }
  },
  {
   "cell_type": "code",
   "execution_count": null,
   "outputs": [],
   "source": [
    "#Hard Vote or majority rules w/Tuned Hyperparameters\n",
    "grid_hard = ensemble.VotingClassifier(estimators = vote_est , voting = 'hard')\n",
    "grid_hard_cv = model_selection.cross_validate(grid_hard,  train1[data1_x], train1[Target], cv  = cv_split)\n",
    "grid_hard.fit( train1[data1_x], train1[Target])\n",
    "\n",
    "#print(\"Hard Voting w/Tuned Hyperparameters Training w/bin score mean: {:.2f}\". format(grid_hard_cv['train_score'].mean()*100))\n",
    "print(\"Hard Voting w/Tuned Hyperparameters Test w/bin score mean: {:.2f}\". format(grid_hard_cv['test_score'].mean()*100))\n",
    "print(\"Hard Voting w/Tuned Hyperparameters Test w/bin score 3*std: +/- {:.2f}\". format(grid_hard_cv['test_score'].std()*100*3))\n",
    "print('-'*10)\n",
    "\n",
    "#Soft Vote or weighted probabilities w/Tuned Hyperparameters\n",
    "grid_soft = ensemble.VotingClassifier(estimators = vote_est , voting = 'soft')\n",
    "grid_soft_cv = model_selection.cross_validate(grid_soft,  train1[data1_x], train1[Target], cv  = cv_split)\n",
    "grid_soft.fit( train1[data1_x], train1[Target])\n",
    "\n",
    "#print(\"Soft Voting w/Tuned Hyperparameters Training w/bin score mean: {:.2f}\". format(grid_soft_cv['train_score'].mean()*100))\n",
    "print(\"Soft Voting w/Tuned Hyperparameters Test w/bin score mean: {:.2f}\". format(grid_soft_cv['test_score'].mean()*100))\n",
    "print(\"Soft Voting w/Tuned Hyperparameters Test w/bin score 3*std: +/- {:.2f}\". format(grid_soft_cv['test_score'].std()*100*3))\n",
    "print('-'*10)\n",
    "\n",
    "\n",
    "#12/31/17 tuned with data1_x_bin\n",
    "#The best parameter for AdaBoostClassifier is {'learning_rate': 0.1, 'n_estimators': 300, 'random_state': 0} with a runtime of 33.39 seconds.\n",
    "#The best parameter for BaggingClassifier is {'max_samples': 0.25, 'n_estimators': 300, 'random_state': 0} with a runtime of 30.28 seconds.\n",
    "#The best parameter for ExtraTreesClassifier is {'criterion': 'entropy', 'max_depth': 6, 'n_estimators': 100, 'random_state': 0} with a runtime of 64.76 seconds.\n",
    "#The best parameter for GradientBoostingClassifier is {'learning_rate': 0.05, 'max_depth': 2, 'n_estimators': 300, 'random_state': 0} with a runtime of 34.35 seconds.\n",
    "#The best parameter for RandomForestClassifier is {'criterion': 'entropy', 'max_depth': 6, 'n_estimators': 100, 'oob_score': True, 'random_state': 0} with a runtime of 76.32 seconds.\n",
    "#The best parameter for GaussianProcessClassifier is {'max_iter_predict': 10, 'random_state': 0} with a runtime of 6.01 seconds.\n",
    "#The best parameter for LogisticRegressionCV is {'fit_intercept': True, 'random_state': 0, 'solver': 'liblinear'} with a runtime of 8.04 seconds.\n",
    "#The best parameter for BernoulliNB is {'alpha': 0.1} with a runtime of 0.19 seconds.\n",
    "#The best parameter for GaussianNB is {} with a runtime of 0.04 seconds.\n",
    "#The best parameter for KNeighborsClassifier is {'algorithm': 'brute', 'n_neighbors': 7, 'weights': 'uniform'} with a runtime of 4.84 seconds.\n",
    "#The best parameter for SVC is {'C': 2, 'decision_function_shape': 'ovo', 'gamma': 0.1, 'probability': True, 'random_state': 0} with a runtime of 29.39 seconds.\n",
    "#The best parameter for XGBClassifier is {'learning_rate': 0.01, 'max_depth': 4, 'n_estimators': 300, 'seed': 0} with a runtime of 46.23 seconds.\n",
    "#Total optimization time was 5.56 minutes."
   ],
   "metadata": {
    "collapsed": false
   }
  },
  {
   "cell_type": "code",
   "execution_count": null,
   "outputs": [],
   "source": [
    "alg = MLA[0]"
   ],
   "metadata": {
    "collapsed": false
   }
  },
  {
   "cell_type": "code",
   "execution_count": 19,
   "outputs": [
    {
     "data": {
      "text/plain": "       industry  location  lang  edu  ability_score  company_avg_work_time  \\\n53019       118         5     0    2       0.334197            1345.021127   \n53020        25         2     1    3       0.210421            1119.048246   \n53021         9         5     1    1       0.105192               0.000000   \n53022        67         5     0    1       0.336394             505.666667   \n53023        36         5     1    0       0.026839             496.333333   \n...         ...       ...   ...  ...            ...                    ...   \n66269        25         5     0    0       0.027347             667.408163   \n66270        57         5     1    3       0.014560            1676.384615   \n66271       139         2     1    2       0.067713             747.745536   \n66272        63         0     1    1       0.090133             919.090153   \n66273         9         3     1    1       0.201136             712.371795   \n\n       experinece  user_working_point  \n53019   19.008219            0.585160  \n53020    3.583562            0.516951  \n53021    0.000000            0.000000  \n53022    8.421918            0.583754  \n53023    3.583562            0.560535  \n...           ...                 ...  \n66269    3.501370            0.554056  \n66270   14.339726            0.567971  \n66271    1.501370            0.518021  \n66272    5.586301            0.535299  \n66273    6.504110            0.484341  \n\n[13255 rows x 8 columns]",
      "text/html": "<div>\n<style scoped>\n    .dataframe tbody tr th:only-of-type {\n        vertical-align: middle;\n    }\n\n    .dataframe tbody tr th {\n        vertical-align: top;\n    }\n\n    .dataframe thead th {\n        text-align: right;\n    }\n</style>\n<table border=\"1\" class=\"dataframe\">\n  <thead>\n    <tr style=\"text-align: right;\">\n      <th></th>\n      <th>industry</th>\n      <th>location</th>\n      <th>lang</th>\n      <th>edu</th>\n      <th>ability_score</th>\n      <th>company_avg_work_time</th>\n      <th>experinece</th>\n      <th>user_working_point</th>\n    </tr>\n  </thead>\n  <tbody>\n    <tr>\n      <th>53019</th>\n      <td>118</td>\n      <td>5</td>\n      <td>0</td>\n      <td>2</td>\n      <td>0.334197</td>\n      <td>1345.021127</td>\n      <td>19.008219</td>\n      <td>0.585160</td>\n    </tr>\n    <tr>\n      <th>53020</th>\n      <td>25</td>\n      <td>2</td>\n      <td>1</td>\n      <td>3</td>\n      <td>0.210421</td>\n      <td>1119.048246</td>\n      <td>3.583562</td>\n      <td>0.516951</td>\n    </tr>\n    <tr>\n      <th>53021</th>\n      <td>9</td>\n      <td>5</td>\n      <td>1</td>\n      <td>1</td>\n      <td>0.105192</td>\n      <td>0.000000</td>\n      <td>0.000000</td>\n      <td>0.000000</td>\n    </tr>\n    <tr>\n      <th>53022</th>\n      <td>67</td>\n      <td>5</td>\n      <td>0</td>\n      <td>1</td>\n      <td>0.336394</td>\n      <td>505.666667</td>\n      <td>8.421918</td>\n      <td>0.583754</td>\n    </tr>\n    <tr>\n      <th>53023</th>\n      <td>36</td>\n      <td>5</td>\n      <td>1</td>\n      <td>0</td>\n      <td>0.026839</td>\n      <td>496.333333</td>\n      <td>3.583562</td>\n      <td>0.560535</td>\n    </tr>\n    <tr>\n      <th>...</th>\n      <td>...</td>\n      <td>...</td>\n      <td>...</td>\n      <td>...</td>\n      <td>...</td>\n      <td>...</td>\n      <td>...</td>\n      <td>...</td>\n    </tr>\n    <tr>\n      <th>66269</th>\n      <td>25</td>\n      <td>5</td>\n      <td>0</td>\n      <td>0</td>\n      <td>0.027347</td>\n      <td>667.408163</td>\n      <td>3.501370</td>\n      <td>0.554056</td>\n    </tr>\n    <tr>\n      <th>66270</th>\n      <td>57</td>\n      <td>5</td>\n      <td>1</td>\n      <td>3</td>\n      <td>0.014560</td>\n      <td>1676.384615</td>\n      <td>14.339726</td>\n      <td>0.567971</td>\n    </tr>\n    <tr>\n      <th>66271</th>\n      <td>139</td>\n      <td>2</td>\n      <td>1</td>\n      <td>2</td>\n      <td>0.067713</td>\n      <td>747.745536</td>\n      <td>1.501370</td>\n      <td>0.518021</td>\n    </tr>\n    <tr>\n      <th>66272</th>\n      <td>63</td>\n      <td>0</td>\n      <td>1</td>\n      <td>1</td>\n      <td>0.090133</td>\n      <td>919.090153</td>\n      <td>5.586301</td>\n      <td>0.535299</td>\n    </tr>\n    <tr>\n      <th>66273</th>\n      <td>9</td>\n      <td>3</td>\n      <td>1</td>\n      <td>1</td>\n      <td>0.201136</td>\n      <td>712.371795</td>\n      <td>6.504110</td>\n      <td>0.484341</td>\n    </tr>\n  </tbody>\n</table>\n<p>13255 rows × 8 columns</p>\n</div>"
     },
     "execution_count": 19,
     "metadata": {},
     "output_type": "execute_result"
    }
   ],
   "source": [
    "val1[data1_x]"
   ],
   "metadata": {
    "collapsed": false
   }
  },
  {
   "cell_type": "code",
   "execution_count": 24,
   "outputs": [],
   "source": [
    "data2_x = ['user_id', 'company_id_x', 'work_time', 'company_avg_work_time_x',\n",
    "           'user_working_point_x', 'experinece_x', 'industry', 'location', 'lang', 'edu', 'ability_score', 'Q1', 'Q2', 'Q3', 'Q4']"
   ],
   "metadata": {
    "collapsed": false
   }
  },
  {
   "cell_type": "code",
   "execution_count": 26,
   "outputs": [
    {
     "name": "stdout",
     "output_type": "stream",
     "text": [
      "<class 'pandas.core.frame.DataFrame'>\n",
      "Int64Index: 151709 entries, 0 to 162234\n",
      "Data columns (total 15 columns):\n",
      " #   Column                   Non-Null Count   Dtype  \n",
      "---  ------                   --------------   -----  \n",
      " 0   user_id                  151709 non-null  int64  \n",
      " 1   company_id_x             145243 non-null  float64\n",
      " 2   work_time                145243 non-null  float64\n",
      " 3   company_avg_work_time_x  145243 non-null  float64\n",
      " 4   user_working_point_x     145243 non-null  float64\n",
      " 5   experinece_x             145243 non-null  float64\n",
      " 6   industry                 151709 non-null  int32  \n",
      " 7   location                 151709 non-null  int32  \n",
      " 8   lang                     151709 non-null  int32  \n",
      " 9   edu                      151709 non-null  int32  \n",
      " 10  ability_score            151709 non-null  float64\n",
      " 11  Q1                       151709 non-null  float64\n",
      " 12  Q2                       151709 non-null  float64\n",
      " 13  Q3                       151709 non-null  float64\n",
      " 14  Q4                       151709 non-null  float64\n",
      "dtypes: float64(10), int32(4), int64(1)\n",
      "memory usage: 16.2 MB\n"
     ]
    }
   ],
   "source": [
    "train2"
   ],
   "metadata": {
    "collapsed": false
   }
  },
  {
   "cell_type": "code",
   "execution_count": 30,
   "outputs": [
    {
     "name": "stdout",
     "output_type": "stream",
     "text": [
      "<class 'pandas.core.frame.DataFrame'>\n",
      "Int64Index: 13255 entries, 53019 to 66273\n",
      "Data columns (total 11 columns):\n",
      " #   Column                 Non-Null Count  Dtype  \n",
      "---  ------                 --------------  -----  \n",
      " 0   user_id                13255 non-null  int64  \n",
      " 1   industry               13255 non-null  int32  \n",
      " 2   location               13255 non-null  int32  \n",
      " 3   moved_after_2019       13255 non-null  int32  \n",
      " 4   lang                   13255 non-null  int32  \n",
      " 5   edu                    13255 non-null  int32  \n",
      " 6   ability_score          13255 non-null  float64\n",
      " 7   company_id             13255 non-null  int32  \n",
      " 8   company_avg_work_time  13255 non-null  float64\n",
      " 9   experinece             13255 non-null  float64\n",
      " 10  user_working_point     13255 non-null  float64\n",
      "dtypes: float64(4), int32(6), int64(1)\n",
      "memory usage: 932.0 KB\n",
      "None\n",
      "----------\n"
     ]
    },
    {
     "data": {
      "text/plain": "0    11760\n1     1495\nName: moved_after_2019, dtype: int64"
     },
     "execution_count": 30,
     "metadata": {},
     "output_type": "execute_result"
    }
   ],
   "source": [
    "print(val1.info())\n",
    "print(\"-\"*10)\n",
    "submit_dt = model_selection.GridSearchCV(tree.DecisionTreeClassifier(), param_grid=param_grid, scoring = 'roc_auc', cv = cv_split)\n",
    "submit_dt.fit(train2[data2_x], train2[Target])\n",
    "print('Best Parameters: ', submit_dt.best_params_) #Best Parameters:  {'criterion': 'gini', 'max_depth': 4, 'random_state': 0}\n",
    "val1[Target] = rfe_tune_model.predict(val1[X_rfe]).reshape(-1,1)\n",
    "val1.moved_after_2019.value_counts()"
   ],
   "metadata": {
    "collapsed": false
   }
  },
  {
   "cell_type": "code",
   "execution_count": null,
   "outputs": [],
   "source": [
    "#prepare data for modeling\n",
    "print(val1.info())\n",
    "print(\"-\"*10)\n",
    "#data_val.sample(10)\n",
    "\n",
    "\n",
    "\n",
    "#handmade decision tree - submission score = 0.77990\n",
    "#val1['moved_after_2019'] = mytree(data_val).astype(int)\n",
    "\n",
    "\n",
    "#decision tree w/full dataset modeling submission score: defaults= 0.76555, tuned= 0.77990\n",
    "#submit_dt = tree.DecisionTreeClassifier()\n",
    "\n",
    "submit_dt = model_selection.GridSearchCV(tree.DecisionTreeClassifier(), param_grid=param_grid, scoring = 'roc_auc', cv = cv_split)\n",
    "submit_dt.fit(train1[data1_x], train1[Target])\n",
    "print('Best Parameters: ', submit_dt.best_params_) #Best Parameters:  {'criterion': 'gini', 'max_depth': 4, 'random_state': 0}\n",
    "val1[Target] = submit_dt.predict(val1[data1_x])\n",
    "\n",
    "\n",
    "#bagging w/full dataset modeling submission score: defaults= 0.75119, tuned= 0.77990\n",
    "#submit_bc = ensemble.BaggingClassifier()\n",
    "#submit_bc = model_selection.GridSearchCV(ensemble.BaggingClassifier(), param_grid= {'n_estimators':grid_n_estimator, 'max_samples': grid_ratio, 'oob_score': grid_bool, 'random_state': grid_seed}, scoring = 'roc_auc', cv = cv_split)\n",
    "#submit_bc.fit(data1[data1_x_bin], data1[Target])\n",
    "#print('Best Parameters: ', submit_bc.best_params_) #Best Parameters:  {'max_samples': 0.25, 'n_estimators': 500, 'oob_score': True, 'random_state': 0}\n",
    "#data_val['Survived'] = submit_bc.predict(data_val[data1_x_bin])\n",
    "\n",
    "\n",
    "#extra tree w/full dataset modeling submission score: defaults= 0.76555, tuned= 0.77990\n",
    "#submit_etc = ensemble.ExtraTreesClassifier()\n",
    "#submit_etc = model_selection.GridSearchCV(ensemble.ExtraTreesClassifier(), param_grid={'n_estimators': grid_n_estimator, 'criterion': grid_criterion, 'max_depth': grid_max_depth, 'random_state': grid_seed}, scoring = 'roc_auc', cv = cv_split)\n",
    "#submit_etc.fit(data1[data1_x_bin], data1[Target])\n",
    "#print('Best Parameters: ', submit_etc.best_params_) #Best Parameters:  {'criterion': 'entropy', 'max_depth': 6, 'n_estimators': 100, 'random_state': 0}\n",
    "#data_val['Survived'] = submit_etc.predict(data_val[data1_x_bin])\n",
    "\n",
    "\n",
    "#random foreset w/full dataset modeling submission score: defaults= 0.71291, tuned= 0.73205\n",
    "#submit_rfc = ensemble.RandomForestClassifier()\n",
    "#submit_rfc = model_selection.GridSearchCV(ensemble.RandomForestClassifier(), param_grid={'n_estimators': grid_n_estimator, 'criterion': grid_criterion, 'max_depth': grid_max_depth, 'random_state': grid_seed}, scoring = 'roc_auc', cv = cv_split)\n",
    "#submit_rfc.fit(data1[data1_x_bin], data1[Target])\n",
    "#print('Best Parameters: ', submit_rfc.best_params_) #Best Parameters:  {'criterion': 'entropy', 'max_depth': 6, 'n_estimators': 100, 'random_state': 0}\n",
    "#data_val['Survived'] = submit_rfc.predict(data_val[data1_x_bin])\n",
    "\n",
    "\n",
    "\n",
    "#ada boosting w/full dataset modeling submission score: defaults= 0.74162, tuned= 0.75119\n",
    "#submit_abc = ensemble.AdaBoostClassifier()\n",
    "#submit_abc = model_selection.GridSearchCV(ensemble.AdaBoostClassifier(), param_grid={'n_estimators': grid_n_estimator, 'learning_rate': grid_ratio, 'algorithm': ['SAMME', 'SAMME.R'], 'random_state': grid_seed}, scoring = 'roc_auc', cv = cv_split)\n",
    "#submit_abc.fit(data1[data1_x_bin], data1[Target])\n",
    "#print('Best Parameters: ', submit_abc.best_params_) #Best Parameters:  {'algorithm': 'SAMME.R', 'learning_rate': 0.1, 'n_estimators': 300, 'random_state': 0}\n",
    "#data_val['Survived'] = submit_abc.predict(data_val[data1_x_bin])\n",
    "\n",
    "\n",
    "#gradient boosting w/full dataset modeling submission score: defaults= 0.75119, tuned= 0.77033\n",
    "#submit_gbc = ensemble.GradientBoostingClassifier()\n",
    "#submit_gbc = model_selection.GridSearchCV(ensemble.GradientBoostingClassifier(), param_grid={'learning_rate': grid_ratio, 'n_estimators': grid_n_estimator, 'max_depth': grid_max_depth, 'random_state':grid_seed}, scoring = 'roc_auc', cv = cv_split)\n",
    "#submit_gbc.fit(data1[data1_x_bin], data1[Target])\n",
    "#print('Best Parameters: ', submit_gbc.best_params_) #Best Parameters:  {'learning_rate': 0.25, 'max_depth': 2, 'n_estimators': 50, 'random_state': 0}\n",
    "#data_val['Survived'] = submit_gbc.predict(data_val[data1_x_bin])\n",
    "\n",
    "#extreme boosting w/full dataset modeling submission score: defaults= 0.73684, tuned= 0.77990\n",
    "#submit_xgb = XGBClassifier()\n",
    "#submit_xgb = model_selection.GridSearchCV(XGBClassifier(), param_grid= {'learning_rate': grid_learn, 'max_depth': [0,2,4,6,8,10], 'n_estimators': grid_n_estimator, 'seed': grid_seed}, scoring = 'roc_auc', cv = cv_split)\n",
    "#submit_xgb.fit(data1[data1_x_bin], data1[Target])\n",
    "#print('Best Parameters: ', submit_xgb.best_params_) #Best Parameters:  {'learning_rate': 0.01, 'max_depth': 4, 'n_estimators': 300, 'seed': 0}\n",
    "#data_val['Survived'] = submit_xgb.predict(data_val[data1_x_bin])\n",
    "\n",
    "\n",
    "#hard voting classifier w/full dataset modeling submission score: defaults= 0.75598, tuned = 0.77990\n",
    "#data_val['Survived'] = vote_hard.predict(data_val[data1_x_bin])\n",
    "#val1['moved_after_2019'] = grid_hard.predict(val1[data1_x])\n",
    "\n",
    "\n",
    "#soft voting classifier w/full dataset modeling submission score: defaults= 0.73684, tuned = 0.74162\n",
    "#data_val['Survived'] = vote_soft.predict(data_val[data1_x_bin])\n",
    "#data_val['Survived'] = grid_soft.predict(data_val[data1_x_bin])\n",
    "\n",
    "\n",
    "#submit file\n",
    "submit = val1[['user_id','moved_after_2019']]\n",
    "submit.to_csv(\"../working/submit.csv\", index=False)\n",
    "\n",
    "print('Validation Data Distribution: \\n', val1['moved_after_2019'].value_counts(normalize = True))\n",
    "submit.sample(10)"
   ],
   "metadata": {
    "collapsed": false
   }
  },
  {
   "cell_type": "code",
   "execution_count": null,
   "outputs": [],
   "source": [],
   "metadata": {
    "collapsed": false
   }
  },
  {
   "cell_type": "markdown",
   "source": [
    "Hi! My name is Mehmet Ünlü\n",
    "(Daymenion on all social media)\n",
    "============================\n",
    "Jr. Machine Learning Enginer and Data Scientist\n",
    "\n",
    "### Socials\n",
    "\n",
    "<p align=\"left\"> <a href=\"https://www.github.com/daymenion\" target=\"_blank\" rel=\"noreferrer\"><img src=\"https://th.bing.com/th/id/R.f12560820c5070ee4be83c3feb569ce1?rik=l9Xz9PiZqqnDJQ&pid=ImgRaw&r=0\" width=\"64\" height=\"64\" /></a> <a href=\"http://www.instagram.com/daymenion\" target=\"_blank\" rel=\"noreferrer\"><img src=\"https://th.bing.com/th/id/R.a11315201911a2d50acb12f211af971d?rik=rYfbAN81u748Ww&pid=ImgRaw&r=0\" width=\"64\" height=\"64\" /></a> <a href=\"https://www.linkedin.com/in/daymenion\" target=\"_blank\" rel=\"noreferrer\"><img src=\"https://th.bing.com/th/id/R.94fdd92844139dece578d7a6c773af6e?rik=g%2bRCje2rfTDYZw&pid=ImgRaw&r=0\" width=\"64\" height=\"64\" /></a> <a href=\"http://www.medium.com/@daymenion\" target=\"_blank\" rel=\"noreferrer\"><img src=\"https://cdn.freebiesupply.com/logos/thumbs/2x/medium-1-logo.png\" width=\"64\" height=\"64\" /></a>  <a href=\"https://www.youtube.com/c/daymenion\" target=\"_blank\" rel=\"noreferrer\"><img src=\"https://th.bing.com/th/id/R.81cea6fc47a319de6ad49c00eda309e4?rik=n3DSWqmh0wO5KA&pid=ImgRaw&r=0\" width=\"64\" height=\"64\" /></a></p>"
   ],
   "metadata": {
    "collapsed": false
   }
  },
  {
   "cell_type": "code",
   "execution_count": null,
   "outputs": [],
   "source": [],
   "metadata": {
    "collapsed": false
   }
  }
 ],
 "metadata": {
  "kernelspec": {
   "display_name": "Python 3",
   "language": "python",
   "name": "python3"
  },
  "language_info": {
   "codemirror_mode": {
    "name": "ipython",
    "version": 2
   },
   "file_extension": ".py",
   "mimetype": "text/x-python",
   "name": "python",
   "nbconvert_exporter": "python",
   "pygments_lexer": "ipython2",
   "version": "2.7.6"
  }
 },
 "nbformat": 4,
 "nbformat_minor": 0
}
